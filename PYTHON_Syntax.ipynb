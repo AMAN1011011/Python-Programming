{
  "nbformat": 4,
  "nbformat_minor": 0,
  "metadata": {
    "colab": {
      "provenance": []
    },
    "kernelspec": {
      "name": "python3",
      "display_name": "Python 3"
    },
    "language_info": {
      "name": "python"
    }
  },
  "cells": [
    {
      "cell_type": "markdown",
      "source": [
        "##SYNTAX IN PYTHON\n",
        "####The syntax of the Python programming language is the set of rules that defines how a Python program will be written and interpreted\n",
        "\n",
        "###Python Syntax can be Broadly classified into 8 categories\n",
        "*  Line Structure\n",
        "*  Comments\n",
        "*  Docstrings\n",
        "*  Indentation\n",
        "*  Quotations\n",
        "*  Identifiers\n",
        "*  Variables\n",
        "*  String Formatters."
      ],
      "metadata": {
        "id": "T9StiMe9Q2NE"
      }
    },
    {
      "cell_type": "markdown",
      "source": [
        "###LINE STRUCTUR\n",
        "#####Python coding style comprises physical lines as well as logical lines or statements. A physical line in a Python program is a sequence of characters, and the end of the line terminates the line sequence as opposed to some other languages, such as C and C++ where a semi-colon is used to mark the end of the statement. A logical line, on the other hand, is composed of one or more physical lines. The use of a semi-colon is not prohibited in Python, although it’s not mandatory. The NEWLINE token denotes the end of the logical line."
      ],
      "metadata": {
        "id": "5IFuSAYtngQg"
      }
    },
    {
      "cell_type": "code",
      "source": [
        "variable = 6"
      ],
      "metadata": {
        "id": "9L31M0qXzyVd"
      },
      "execution_count": null,
      "outputs": []
    },
    {
      "cell_type": "markdown",
      "source": [
        "NOTE:  A logical line that only contains spaces, comments, or tabs are called blank lines and they are ignored by the interpreter."
      ],
      "metadata": {
        "id": "7XAmynz_z6yo"
      }
    },
    {
      "cell_type": "markdown",
      "source": [
        "## Python Multiline Statements\n",
        "As we saw that in Python, a new line simply means that a new statement has started. Although, Python does provide a way to split a statement into a multiline statement or to join multiple statements into one logical line. This can be helpful to increase the readability of the statement. Following are the two ways to split a line into two or more lines:"
      ],
      "metadata": {
        "id": "8gF7us7s0KPx"
      }
    },
    {
      "cell_type": "markdown",
      "source": [
        "####Explicit Line joining\n",
        "In explicit line joining, we use a backward slash to split a statement into a multiline statement."
      ],
      "metadata": {
        "id": "nyR6cKSV0dUa"
      }
    },
    {
      "cell_type": "code",
      "source": [
        "#Explicit Line joining\n",
        "print(\"This is a \\\n",
        "multi line statement\")"
      ],
      "metadata": {
        "colab": {
          "base_uri": "https://localhost:8080/"
        },
        "id": "X3BjjhSl0o5W",
        "outputId": "9c1fe2b0-d1c8-433a-d9b9-8748ee5ff730"
      },
      "execution_count": null,
      "outputs": [
        {
          "output_type": "stream",
          "name": "stdout",
          "text": [
            "This is a multi line statement\n"
          ]
        }
      ]
    },
    {
      "cell_type": "markdown",
      "source": [
        "####Implicit Line Joining\n",
        "Statements that reside inside [], {}, or () parentheses can be broken down into two or more physical lines without using a back slash.\n",
        "\n"
      ],
      "metadata": {
        "id": "O94MOyL-1C9z"
      }
    },
    {
      "cell_type": "code",
      "source": [
        "#Implicit Line Joining\n",
        "Fruits = [\"Apple\", \"Banana\",\n",
        "          \"Grapes, Orange\", \"Plum\"]\n",
        "print(Fruits)"
      ],
      "metadata": {
        "colab": {
          "base_uri": "https://localhost:8080/"
        },
        "id": "Q8XfxJ2m1pkp",
        "outputId": "3fcfcf95-918b-4251-86b6-9015d0b06ac5"
      },
      "execution_count": null,
      "outputs": [
        {
          "output_type": "stream",
          "name": "stdout",
          "text": [
            "['Apple', 'Banana', 'Grapes, Orange', 'Plum']\n"
          ]
        }
      ]
    },
    {
      "cell_type": "markdown",
      "source": [
        "####Whitespaces and Indentation\n",
        "Unlike most of the programming languages, Python uses indentation to mark a block of code. According to Python coding style guideline, we should keep an indent size of four.\n",
        "Most of the programming languages provide indentation for better code formatting and don’t enforce to have it. But in Python it is mandatory. This is why indentation is so crucial in Python.\n"
      ],
      "metadata": {
        "id": "FiIp6gia2Om7"
      }
    },
    {
      "cell_type": "code",
      "source": [
        "#Indentation Error\n",
        "a=1\n",
        "if a>0 :\n",
        "print(\"There is no indentation in this statement\")"
      ],
      "metadata": {
        "colab": {
          "base_uri": "https://localhost:8080/",
          "height": 134
        },
        "id": "g3hbNaO72jPq",
        "outputId": "641124d4-a284-4e8a-b5cd-c57d204697d8"
      },
      "execution_count": null,
      "outputs": [
        {
          "output_type": "error",
          "ename": "IndentationError",
          "evalue": "ignored",
          "traceback": [
            "\u001b[0;36m  File \u001b[0;32m\"<ipython-input-2-f122bad49b5a>\"\u001b[0;36m, line \u001b[0;32m4\u001b[0m\n\u001b[0;31m    print(\"There is no indentation in this statement\")\u001b[0m\n\u001b[0m    ^\u001b[0m\n\u001b[0;31mIndentationError\u001b[0m\u001b[0;31m:\u001b[0m expected an indented block\n"
          ]
        }
      ]
    },
    {
      "cell_type": "code",
      "source": [
        "#Correct answer for above Indentation Error will be:\n",
        "a=1\n",
        "if a>0 :\n",
        "  print(\"There is no indentation in this statement\")\n",
        "#There is a requirement of a space after (:) in the next line."
      ],
      "metadata": {
        "id": "AhLxDJz821sf",
        "colab": {
          "base_uri": "https://localhost:8080/"
        },
        "outputId": "8677ef7b-5163-40c5-c378-823ebbcedd81"
      },
      "execution_count": null,
      "outputs": [
        {
          "output_type": "stream",
          "name": "stdout",
          "text": [
            "There is no indentation in this statement\n"
          ]
        }
      ]
    },
    {
      "cell_type": "markdown",
      "source": [
        "###Identifiers\n",
        "Identifiers in Python are nothing but user-defined names to represent programmable entities like (Python Variables, Python Functions, Python Class, Python Modules), or any other objects. But, there are a few rules that we need to follow while defining an identifier. They are:\n",
        "*  We can use a sequence of letters [lowercase (a to z) or uppercase (A to Z)], and we can also mix up digits (0 to 9) or an underscore (_) while defining an identifier.\n",
        "*  We can’t use digits to begin an identifier’s name.\n",
        "*  We should not use Reserved Keywords to define an identifier.\n",
        "*  Other than underscore (_), we are not allowed to use any other special characters.\n",
        "*  Even though python doc says that we can name an identifier with unlimited length, it is not entirely true. Using a large name (more than 79 chars) would lead to the violation of a rule set by the PEP8 standard."
      ],
      "metadata": {
        "id": "LrPD9DY36iqv"
      }
    },
    {
      "cell_type": "markdown",
      "source": [
        "###Python Quotations\n",
        "In Python, single quotes and double quotes, both are supported for strings. If we have started a string with a single quote, it is mandatory to end it with a single quote only. The same goes with double quotes."
      ],
      "metadata": {
        "id": "glkhfcyW7znn"
      }
    },
    {
      "cell_type": "code",
      "source": [
        "#Quotation example\n",
        "print ('single quoted string')\n",
        "print (\"double quoted string\")"
      ],
      "metadata": {
        "colab": {
          "base_uri": "https://localhost:8080/"
        },
        "id": "_fkBGFcW75WO",
        "outputId": "4a64c101-a31e-42ec-e308-866362d4b15b"
      },
      "execution_count": 2,
      "outputs": [
        {
          "output_type": "stream",
          "name": "stdout",
          "text": [
            "single quoted string\n",
            "double quoted string\n"
          ]
        }
      ]
    },
    {
      "cell_type": "markdown",
      "source": [
        "###Reserved Words\n",
        "Reserved words are nothing but a set of special words, which are reserved by Python and have specific meanings. Remember that we are not allowed to use keywords as Variables in Python.\n",
        "\n",
        "Reserved words in Python are case sensitive. Following table shows all these reserved words used in Python.\n",
        "\n",
        "* False\n",
        "* class\n",
        "* finally\n",
        "*\tis\n",
        "*\treturn\n",
        "* None\n",
        "*\tcontinue\n",
        "*\tfor\n",
        "*\tlambda\n",
        "*\ttry\n",
        "* True\n",
        "*\tdef\n",
        "*\tfrom\n",
        "*\tnon\n",
        "* local\n",
        "*\twhile\n",
        "* and\n",
        "*\tdel\n",
        "*\tglobal\n",
        "*\tnot\n",
        "*\twith\n",
        "* as\n",
        "*\tel\n",
        "*\tif\n",
        "*\tor\n",
        "*\tyield\n",
        "* assert\n",
        "*\telse\n",
        "*\timport\n",
        "*\tpass\t\n",
        "* break\n",
        "*\texcept\n",
        "*\tin\n",
        "*\traise"
      ],
      "metadata": {
        "id": "9A87jpQS8Ir4"
      }
    },
    {
      "cell_type": "code",
      "source": [],
      "metadata": {
        "id": "1gVm9zej8rBx"
      },
      "execution_count": null,
      "outputs": []
    }
  ]
}