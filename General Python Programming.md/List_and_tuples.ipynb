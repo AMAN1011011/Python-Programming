{
  "nbformat": 4,
  "nbformat_minor": 0,
  "metadata": {
    "colab": {
      "provenance": []
    },
    "kernelspec": {
      "name": "python3",
      "display_name": "Python 3"
    },
    "language_info": {
      "name": "python"
    }
  },
  "cells": [
    {
      "cell_type": "code",
      "source": [
        "marks = [67.8, 98.7, 78.9, 94.7, 89.9, 97.8, 58.7]\n",
        "print(marks)\n",
        "print(type(marks))\n",
        "print(marks[4])\n",
        "print(marks[1])"
      ],
      "metadata": {
        "colab": {
          "base_uri": "https://localhost:8080/"
        },
        "id": "vJxDvCjEqHTG",
        "outputId": "83fca661-dd89-4e7b-8c56-86e757d051c2"
      },
      "execution_count": 64,
      "outputs": [
        {
          "output_type": "stream",
          "name": "stdout",
          "text": [
            "[67.8, 98.7, 78.9, 94.7, 89.9, 97.8, 58.7]\n",
            "<class 'list'>\n",
            "89.9\n",
            "98.7\n"
          ]
        }
      ]
    },
    {
      "cell_type": "code",
      "source": [
        "#STRINGS are mutable\n",
        "#LISTS are mutable"
      ],
      "metadata": {
        "id": "pBF9vO4LqmJT"
      },
      "execution_count": 65,
      "outputs": []
    },
    {
      "cell_type": "code",
      "source": [
        "student=[\"aman\", 94.7, 18, \"Indore\"]\n",
        "print(student[3])\n",
        "student[3]=\"patna\"\n",
        "print(student)"
      ],
      "metadata": {
        "colab": {
          "base_uri": "https://localhost:8080/"
        },
        "id": "GGWBVn_mrJXR",
        "outputId": "e1c2fdc9-1829-4be8-9910-537defe93fcb"
      },
      "execution_count": 68,
      "outputs": [
        {
          "output_type": "stream",
          "name": "stdout",
          "text": [
            "Indore\n",
            "['aman', 94.7, 18, 'patna']\n"
          ]
        }
      ]
    },
    {
      "cell_type": "code",
      "source": [
        " #LIST METHODS\n",
        " list=[1,2,3,4,5,6,7,8,9]\n",
        " list.append(4)\n",
        " print(list)"
      ],
      "metadata": {
        "colab": {
          "base_uri": "https://localhost:8080/"
        },
        "id": "3HnHfrj8ratl",
        "outputId": "f15b6be7-02ad-4d7b-ee8c-d63b75035d34"
      },
      "execution_count": 69,
      "outputs": [
        {
          "output_type": "stream",
          "name": "stdout",
          "text": [
            "[1, 2, 3, 4, 5, 6, 7, 8, 9, 4]\n"
          ]
        }
      ]
    },
    {
      "cell_type": "code",
      "source": [
        "list=[5,4,3,2,1,6,7,8,9]\n",
        "list.sort()\n",
        "print(list)"
      ],
      "metadata": {
        "colab": {
          "base_uri": "https://localhost:8080/"
        },
        "id": "ezPUuZqPu_bX",
        "outputId": "622eeecf-0903-4017-d1d7-17836bb10fad"
      },
      "execution_count": 71,
      "outputs": [
        {
          "output_type": "stream",
          "name": "stdout",
          "text": [
            "[1, 2, 3, 4, 5, 6, 7, 8, 9]\n"
          ]
        }
      ]
    },
    {
      "cell_type": "code",
      "source": [
        "list=[5,4,3,2,1,6,7,8,9]\n",
        "list.sort(reverse=True)\n",
        "print(list)"
      ],
      "metadata": {
        "colab": {
          "base_uri": "https://localhost:8080/"
        },
        "id": "ZAe9i1RzvI7R",
        "outputId": "abc0c4cd-e00d-4092-946b-ac4332a6b900"
      },
      "execution_count": 72,
      "outputs": [
        {
          "output_type": "stream",
          "name": "stdout",
          "text": [
            "[9, 8, 7, 6, 5, 4, 3, 2, 1]\n"
          ]
        }
      ]
    },
    {
      "cell_type": "code",
      "source": [
        "list=['apple', 'banana', 'litchi', 'grapes', 'mango']\n",
        "print(list.sort())\n",
        "print(list)"
      ],
      "metadata": {
        "colab": {
          "base_uri": "https://localhost:8080/"
        },
        "id": "_5Q_Zzj6ypPM",
        "outputId": "895f7eb7-3588-4dd0-d75c-e2ea47e4295c"
      },
      "execution_count": 77,
      "outputs": [
        {
          "output_type": "stream",
          "name": "stdout",
          "text": [
            "None\n",
            "['apple', 'banana', 'grapes', 'litchi', 'mango']\n"
          ]
        }
      ]
    },
    {
      "cell_type": "code",
      "source": [
        "list=[5,4,3,2,1,6,7,8,9]\n",
        "list.insert(1,5)\n",
        "print(list)"
      ],
      "metadata": {
        "colab": {
          "base_uri": "https://localhost:8080/"
        },
        "id": "0n4Dv4abyxnU",
        "outputId": "c4bdd01d-a02d-45c4-b93c-014977752083"
      },
      "execution_count": 79,
      "outputs": [
        {
          "output_type": "stream",
          "name": "stdout",
          "text": [
            "[5, 5, 4, 3, 2, 1, 6, 7, 8, 9]\n"
          ]
        }
      ]
    },
    {
      "cell_type": "code",
      "source": [
        "list=[5,4,3,2,1,6,7,8,9]\n",
        "list.pop(5)\n",
        "print(list)"
      ],
      "metadata": {
        "colab": {
          "base_uri": "https://localhost:8080/"
        },
        "id": "sxg7IPL-1m9B",
        "outputId": "620afccc-1f00-4cbe-ec61-a1a6f8473e4c"
      },
      "execution_count": 80,
      "outputs": [
        {
          "output_type": "stream",
          "name": "stdout",
          "text": [
            "[5, 4, 3, 2, 1, 7, 8, 9]\n"
          ]
        }
      ]
    },
    {
      "cell_type": "code",
      "source": [
        "list=[5,4,3,2,1,6,7,8,9]\n",
        "list.remove(2)\n",
        "print(list)"
      ],
      "metadata": {
        "colab": {
          "base_uri": "https://localhost:8080/"
        },
        "id": "4NtLYcsL1yXU",
        "outputId": "eae3febc-9276-420e-8bfb-12ec9a2523de"
      },
      "execution_count": 81,
      "outputs": [
        {
          "output_type": "stream",
          "name": "stdout",
          "text": [
            "[5, 4, 3, 1, 6, 7, 8, 9]\n"
          ]
        }
      ]
    },
    {
      "cell_type": "code",
      "source": [
        "#TUPLES\n",
        "#creates immutable lists"
      ],
      "metadata": {
        "id": "xfzTmdrb10cM"
      },
      "execution_count": 82,
      "outputs": []
    },
    {
      "cell_type": "code",
      "source": [
        "tup=(1,2,3,4,5,6,7,8,9)\n",
        "print(tup)\n",
        "print(type(tup[1:3]))"
      ],
      "metadata": {
        "colab": {
          "base_uri": "https://localhost:8080/"
        },
        "id": "1tIwLeiI2JVN",
        "outputId": "80afd722-a330-4e3a-cfaf-25c34936bb00"
      },
      "execution_count": 86,
      "outputs": [
        {
          "output_type": "stream",
          "name": "stdout",
          "text": [
            "(1, 2, 3, 4, 5, 6, 7, 8, 9)\n",
            "<class 'tuple'>\n"
          ]
        }
      ]
    },
    {
      "cell_type": "code",
      "source": [
        "tup=(1,2,3,4,5,6,7,8,9)\n",
        "print(tup.index(2))"
      ],
      "metadata": {
        "colab": {
          "base_uri": "https://localhost:8080/"
        },
        "id": "-6CKXRZJ2evC",
        "outputId": "63f8ab52-9dc0-45e6-f407-ac3d185ca68f"
      },
      "execution_count": 87,
      "outputs": [
        {
          "output_type": "stream",
          "name": "stdout",
          "text": [
            "1\n"
          ]
        }
      ]
    },
    {
      "cell_type": "code",
      "source": [
        "tup=(1,2,2,2,3,4,5,6,7,8,9)\n",
        "print(tup.count(2))"
      ],
      "metadata": {
        "colab": {
          "base_uri": "https://localhost:8080/"
        },
        "id": "_XtuVYKd29UD",
        "outputId": "827c3466-0113-46ae-b1ed-5f1f73d8f433"
      },
      "execution_count": 89,
      "outputs": [
        {
          "output_type": "stream",
          "name": "stdout",
          "text": [
            "3\n"
          ]
        }
      ]
    },
    {
      "cell_type": "code",
      "source": [
        "#Program to ask the user to enter names of their 3 favourite movies and store them in a list\n",
        "movies=[]\n",
        "mov1=input(\"Enter the name of your first favourite movie: \")\n",
        "mov2=input(\"Enter the name of your second favourite movie: \")\n",
        "mov3=input(\"Enter the name of your third favourite movie: \")\n",
        "movies.append(mov1)\n",
        "movies.append(mov2)\n",
        "movies.append(mov3)\n",
        "print(movies)"
      ],
      "metadata": {
        "colab": {
          "base_uri": "https://localhost:8080/"
        },
        "id": "dblSNkey3C7m",
        "outputId": "b543a868-cf5f-4f04-b8c9-e053cdcd3e88"
      },
      "execution_count": 91,
      "outputs": [
        {
          "output_type": "stream",
          "name": "stdout",
          "text": [
            "Enter the name of your first favourite movie: Twilight\n",
            "Enter the name of your second favourite movie: John Wick\n",
            "Enter the name of your third favourite movie: Fast & Furious\n",
            "['Twilight', 'John Wick', 'Fast & Furious']\n"
          ]
        }
      ]
    },
    {
      "cell_type": "code",
      "source": [
        "#program to check if a list contains a palindrome of elements.(Hint: use copu() method())\n",
        "list1=[1,2,1]\n",
        "list2=[1,2,3]\n",
        "\n",
        "copy_list1 = list1.copy()\n",
        "copy_list1.reverse()\n",
        "\n",
        "if(copy_list1 == list2):\n",
        "  print(\"True\")\n",
        "else:\n",
        "  print(\"False\")"
      ],
      "metadata": {
        "colab": {
          "base_uri": "https://localhost:8080/"
        },
        "id": "2Tlt6sfw3fjh",
        "outputId": "94435cc5-5a11-465d-fee6-32d4d2fd3ee7"
      },
      "execution_count": 95,
      "outputs": [
        {
          "output_type": "stream",
          "name": "stdout",
          "text": [
            "False\n"
          ]
        }
      ]
    },
    {
      "cell_type": "code",
      "source": [],
      "metadata": {
        "id": "GRAzQ8PL4eS8"
      },
      "execution_count": null,
      "outputs": []
    }
  ]
}