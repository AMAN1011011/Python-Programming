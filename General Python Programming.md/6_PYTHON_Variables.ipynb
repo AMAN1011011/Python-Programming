{
  "nbformat": 4,
  "nbformat_minor": 0,
  "metadata": {
    "colab": {
      "provenance": []
    },
    "kernelspec": {
      "name": "python3",
      "display_name": "Python 3"
    },
    "language_info": {
      "name": "python"
    }
  },
  "cells": [
    {
      "cell_type": "markdown",
      "source": [
        "## VARIABLES IN PYTHON\n",
        "#### VARIABLES\n",
        "Variables are used to store values. But the best thing in python is that unlike other programming languages, python has no command for declaring variables. A variable is created as soon as we assign a value to it."
      ],
      "metadata": {
        "id": "1jcmziZ5g9TF"
      }
    },
    {
      "cell_type": "code",
      "source": [
        "#Example for variable\n",
        "x=10 #Here x is type of int\n",
        "y=\"Aman Verma\" #Here y is the type of string\n",
        "print(x)\n",
        "print(y)"
      ],
      "metadata": {
        "colab": {
          "base_uri": "https://localhost:8080/"
        },
        "id": "DEjFlmLVhl6x",
        "outputId": "a2f6a359-b1cf-46b3-efd4-b4394e4cc715"
      },
      "execution_count": null,
      "outputs": [
        {
          "output_type": "stream",
          "name": "stdout",
          "text": [
            "10\n",
            "Aman Verma\n"
          ]
        }
      ]
    },
    {
      "cell_type": "markdown",
      "source": [
        "A variable name cannot be anything as we want . There are some rules which have to be taken care of while declaring a variable.\n",
        "#### Conditions to write a variable:\n",
        "* A variable name must start with letter or underscore character.\n",
        "* A variable cannot start with a number.\n",
        "* A variable name can only contain alpha-numeric character and underscore (A-z, 0-9 and _). #Symbols are not allowed\n",
        "* Variable names are case sensetive (age, Age and AGE are three different variables)\n",
        "* There can not be a space among variable name."
      ],
      "metadata": {
        "id": "vfdNfdNxiPR8"
      }
    },
    {
      "cell_type": "code",
      "source": [
        "#ALLOWED VARIABLE NAMES :\n",
        "myvar = \"Hello 1\"\n",
        "my_var = \"Hello 2\"\n",
        "_my_var = \"Hello 3\"\n",
        "myVar = \"Hello 4\"\n",
        "MYVAR = \"Hello 5\"\n",
        "myvar2 = \"Hello 6\""
      ],
      "metadata": {
        "id": "5VnqB6nYkPzc"
      },
      "execution_count": null,
      "outputs": []
    },
    {
      "cell_type": "code",
      "source": [
        "#FORBIDDEN VARIABLE NAMES:\n",
        "2myvar = \"Hello 1\"\n",
        "my-var = \"Hello 2\"\n",
        "my var = \"Hello 3\""
      ],
      "metadata": {
        "colab": {
          "base_uri": "https://localhost:8080/",
          "height": 131
        },
        "id": "RROO8YfKkoRH",
        "outputId": "5844e4ba-b70f-48a7-c1af-84e1147a6ebf"
      },
      "execution_count": null,
      "outputs": [
        {
          "output_type": "error",
          "ename": "SyntaxError",
          "evalue": "ignored",
          "traceback": [
            "\u001b[0;36m  File \u001b[0;32m\"<ipython-input-3-de215b5cc3a5>\"\u001b[0;36m, line \u001b[0;32m2\u001b[0m\n\u001b[0;31m    2myvar = \"Hello 1\"\u001b[0m\n\u001b[0m     ^\u001b[0m\n\u001b[0;31mSyntaxError\u001b[0m\u001b[0;31m:\u001b[0m invalid syntax\n"
          ]
        }
      ]
    },
    {
      "cell_type": "markdown",
      "source": [
        "####It is also possible to know the data type of a variable using \"type()\" function"
      ],
      "metadata": {
        "id": "DcDAIrQyl2uj"
      }
    },
    {
      "cell_type": "code",
      "source": [
        "#Example to check the type of variable\n",
        "a = 138\n",
        "b = 12.4\n",
        "c = \"python\"\n",
        "d = True\n",
        "print(type(a))\n",
        "print(type(b))\n",
        "print(type(c))\n",
        "print(type(d))\n"
      ],
      "metadata": {
        "colab": {
          "base_uri": "https://localhost:8080/"
        },
        "id": "4qwVc48hlCcx",
        "outputId": "48aabfde-7c6b-4a88-a564-3c06b9a88b92"
      },
      "execution_count": null,
      "outputs": [
        {
          "output_type": "stream",
          "name": "stdout",
          "text": [
            "<class 'int'>\n",
            "<class 'float'>\n",
            "<class 'str'>\n",
            "<class 'bool'>\n"
          ]
        }
      ]
    },
    {
      "cell_type": "markdown",
      "source": [
        "\n",
        "\n",
        "---\n",
        "\n",
        "\n",
        "\n",
        "---\n",
        "\n"
      ],
      "metadata": {
        "id": "0DWqHKN-yhsk"
      }
    },
    {
      "cell_type": "markdown",
      "source": [
        "### ASSIGNING MULTIPLE VALUES -\n"
      ],
      "metadata": {
        "id": "FXuf6iKEm5j5"
      }
    },
    {
      "cell_type": "code",
      "source": [
        "#Assigning multiple values to variables\n",
        "x, y, z = \"hello\" , \"world\", \"python\"\n",
        "print(x)\n",
        "print(y)\n",
        "print(z)\n"
      ],
      "metadata": {
        "colab": {
          "base_uri": "https://localhost:8080/"
        },
        "id": "HItDYg6pmbXk",
        "outputId": "4bc21649-5f71-4cc8-e101-3627649db3a3"
      },
      "execution_count": null,
      "outputs": [
        {
          "output_type": "stream",
          "name": "stdout",
          "text": [
            "hello\n",
            "world\n",
            "python\n"
          ]
        }
      ]
    },
    {
      "cell_type": "code",
      "source": [
        "#assigning same value tomultiple variable\n",
        "x = y = z = \"python programming\"\n",
        "print(x)\n",
        "print(y)\n",
        "print(z)"
      ],
      "metadata": {
        "colab": {
          "base_uri": "https://localhost:8080/"
        },
        "id": "X2ux2Yg6uoOY",
        "outputId": "76fde3ce-6cc0-4523-af19-9e50daccce1d"
      },
      "execution_count": null,
      "outputs": [
        {
          "output_type": "stream",
          "name": "stdout",
          "text": [
            "python programming\n",
            "python programming\n",
            "python programming\n"
          ]
        }
      ]
    },
    {
      "cell_type": "code",
      "source": [
        "#Extracting from multiple values in a variable\n",
        "programming_languages = [\"Python\", \"Java\", \"C\", \"C++\"]\n",
        "a, b, c, d = programming_languages \n",
        "print(a)\n",
        "print(b)\n",
        "print(c)\n",
        "print(d)"
      ],
      "metadata": {
        "colab": {
          "base_uri": "https://localhost:8080/"
        },
        "id": "eBarPveEu8DJ",
        "outputId": "864d3e40-e5c8-491c-b694-f60cd6968e1f"
      },
      "execution_count": null,
      "outputs": [
        {
          "output_type": "stream",
          "name": "stdout",
          "text": [
            "Python\n",
            "Java\n",
            "C\n",
            "C++\n"
          ]
        }
      ]
    },
    {
      "cell_type": "markdown",
      "source": [
        "\n",
        "\n",
        "---\n",
        "\n",
        "\n",
        "\n",
        "---\n",
        "\n"
      ],
      "metadata": {
        "id": "D6NHaO4QylHd"
      }
    },
    {
      "cell_type": "markdown",
      "source": [
        "###OUTPUT VARIABLE / print() FUNCTION -\n",
        "print() function is used as output variable in python"
      ],
      "metadata": {
        "id": "NGIjQEn9v3BT"
      }
    },
    {
      "cell_type": "code",
      "source": [
        "#Exmple 1\n",
        "a=\"my name\"\n",
        "b=\"is\"\n",
        "c=\"Aman\"\n",
        "print(a,b,c)"
      ],
      "metadata": {
        "colab": {
          "base_uri": "https://localhost:8080/"
        },
        "id": "T7tx25Y1wGMG",
        "outputId": "8654ade9-4c4b-4d79-b4f0-490d72ff5deb"
      },
      "execution_count": null,
      "outputs": [
        {
          "output_type": "stream",
          "name": "stdout",
          "text": [
            "my name is Aman\n"
          ]
        }
      ]
    },
    {
      "cell_type": "code",
      "source": [
        "#Example 2\n",
        "a=\"my name\"\n",
        "b=\"is\"\n",
        "c=\"Aman\"\n",
        "print(a+b+c)\n",
        "#the operator (+) can be used to join these variables"
      ],
      "metadata": {
        "colab": {
          "base_uri": "https://localhost:8080/"
        },
        "id": "9hdElF7-w1uw",
        "outputId": "e1483555-5366-4d57-d32a-09ea75472d9b"
      },
      "execution_count": null,
      "outputs": [
        {
          "output_type": "stream",
          "name": "stdout",
          "text": [
            "my nameisAman\n"
          ]
        }
      ]
    },
    {
      "cell_type": "code",
      "source": [
        "#Example 3\n",
        "a = 10\n",
        "b = 120\n",
        "print(a+b)\n",
        "#With numbers the (+) operator works as mathematical operator"
      ],
      "metadata": {
        "colab": {
          "base_uri": "https://localhost:8080/"
        },
        "id": "PT_SQ3fWxAIA",
        "outputId": "398268e4-9b2b-4c0c-eec6-d3dff3143e56"
      },
      "execution_count": null,
      "outputs": [
        {
          "output_type": "stream",
          "name": "stdout",
          "text": [
            "130\n"
          ]
        }
      ]
    },
    {
      "cell_type": "code",
      "source": [
        "#Example 4\n",
        "a = 10\n",
        "b = \"Python\"\n",
        "print(a+b)\n",
        "#A string and int cannot be added together"
      ],
      "metadata": {
        "colab": {
          "base_uri": "https://localhost:8080/",
          "height": 201
        },
        "id": "6heCl14Exa9X",
        "outputId": "59cda66e-0119-4c1d-83ba-297637fb3aea"
      },
      "execution_count": null,
      "outputs": [
        {
          "output_type": "error",
          "ename": "TypeError",
          "evalue": "ignored",
          "traceback": [
            "\u001b[0;31m---------------------------------------------------------------------------\u001b[0m",
            "\u001b[0;31mTypeError\u001b[0m                                 Traceback (most recent call last)",
            "\u001b[0;32m<ipython-input-17-91b2ab9abab7>\u001b[0m in \u001b[0;36m<module>\u001b[0;34m\u001b[0m\n\u001b[1;32m      2\u001b[0m \u001b[0ma\u001b[0m \u001b[0;34m=\u001b[0m \u001b[0;36m10\u001b[0m\u001b[0;34m\u001b[0m\u001b[0;34m\u001b[0m\u001b[0m\n\u001b[1;32m      3\u001b[0m \u001b[0mb\u001b[0m \u001b[0;34m=\u001b[0m \u001b[0;34m\"Python\"\u001b[0m\u001b[0;34m\u001b[0m\u001b[0;34m\u001b[0m\u001b[0m\n\u001b[0;32m----> 4\u001b[0;31m \u001b[0mprint\u001b[0m\u001b[0;34m(\u001b[0m\u001b[0ma\u001b[0m\u001b[0;34m+\u001b[0m\u001b[0mb\u001b[0m\u001b[0;34m)\u001b[0m\u001b[0;34m\u001b[0m\u001b[0;34m\u001b[0m\u001b[0m\n\u001b[0m",
            "\u001b[0;31mTypeError\u001b[0m: unsupported operand type(s) for +: 'int' and 'str'"
          ]
        }
      ]
    },
    {
      "cell_type": "code",
      "source": [
        "#Example 5\n",
        "a = 10\n",
        "b = \"Python\"\n",
        "print(a, b)\n"
      ],
      "metadata": {
        "colab": {
          "base_uri": "https://localhost:8080/"
        },
        "id": "VqA-gSNBxowY",
        "outputId": "1ddad586-f746-4dce-9bc1-870cc6ed13cb"
      },
      "execution_count": null,
      "outputs": [
        {
          "output_type": "stream",
          "name": "stdout",
          "text": [
            "10 Python\n"
          ]
        }
      ]
    },
    {
      "cell_type": "markdown",
      "source": [
        "\n",
        "\n",
        "---\n",
        "\n",
        "\n",
        "\n",
        "---\n",
        "\n"
      ],
      "metadata": {
        "id": "YWbTNasXynIT"
      }
    },
    {
      "cell_type": "markdown",
      "source": [
        "###GLOBAL VARIABLES -"
      ],
      "metadata": {
        "id": "iv6IAIXhyQ0R"
      }
    },
    {
      "cell_type": "markdown",
      "source": [
        "To understand global variables we also need to understand Functions in python.\n",
        "###FUNCTIONS:\n",
        "A function is a block of code which only runs when it is called.\n",
        "You can pass data, known as parameters, into a function.\n",
        "A function can return data as a result.\n",
        "\n",
        "Functions will be discussed more in detail later."
      ],
      "metadata": {
        "id": "EqKub7-ey1ue"
      }
    },
    {
      "cell_type": "code",
      "source": [
        "#Example of function\n",
        "def my_function():                  #Function can be created using (def) command and then name of the function, here it is (my_function)\n",
        "  print(\"Hello from a function\")    #This command is now under the function (def my_function)\n",
        "my_function()"
      ],
      "metadata": {
        "id": "wW6p1zPzyU8z",
        "colab": {
          "base_uri": "https://localhost:8080/"
        },
        "outputId": "d1d52309-d0e5-48be-df49-5d455ebf0cb7"
      },
      "execution_count": 2,
      "outputs": [
        {
          "output_type": "stream",
          "name": "stdout",
          "text": [
            "Hello from a function\n"
          ]
        }
      ]
    },
    {
      "cell_type": "markdown",
      "source": [
        "### GLOBAL VARIABLE:\n",
        "Variables that are created outside of a function (as in all of the examples above) are known as global variables.\n",
        "\n",
        "Global variables can be used by everyone, both inside of functions and outside."
      ],
      "metadata": {
        "id": "AWy02-aX7SmQ"
      }
    },
    {
      "cell_type": "code",
      "source": [
        "#Example 1- Creating variable outside a function, and using it inside the function\n",
        "x = \"programming language\"\n",
        "\n",
        "def my_function():\n",
        "  print(\"Python is a\" , x)\n",
        "\n",
        "my_function()"
      ],
      "metadata": {
        "colab": {
          "base_uri": "https://localhost:8080/"
        },
        "id": "zyNy6_vS7dfm",
        "outputId": "28094be5-e256-4135-d200-40a0a3d57c2c"
      },
      "execution_count": 4,
      "outputs": [
        {
          "output_type": "stream",
          "name": "stdout",
          "text": [
            "Python is a programming language\n"
          ]
        }
      ]
    },
    {
      "cell_type": "markdown",
      "source": [
        "If you create a variable with the same name inside a function, this variable will be local, and can only be used inside the function. The global variable with the same name will remain as it was, global and with the original value."
      ],
      "metadata": {
        "id": "6sxhsehA8HaV"
      }
    },
    {
      "cell_type": "markdown",
      "source": [
        "###LOCAL VARIABLE:\n",
        "Local variables in python are those variables that are declared inside the function. Alternatively, they are said to defined within a local scope. A user can only access a local variable inside the function but never outside it."
      ],
      "metadata": {
        "id": "76rDB2To8Ykt"
      }
    },
    {
      "cell_type": "code",
      "source": [
        "#Example 2- Creating a variable inside a function , with same name as global variable\n",
        "x=\"programming language\"          #Here the (X) outside the function will be GLOBAL VARIABLE\n",
        "\n",
        "def my_function():\n",
        "  x=\"open source language\"        #Here the (x) inside a function will be a LOCAL VARIABLE\n",
        "  print(\"Python is\", x)\n",
        "\n",
        "my_function()\n",
        "\n",
        "print(\"Python is \", x)"
      ],
      "metadata": {
        "colab": {
          "base_uri": "https://localhost:8080/"
        },
        "id": "Got_PzbV78w1",
        "outputId": "3b7d125a-8264-4409-ca31-470cd270267e"
      },
      "execution_count": 5,
      "outputs": [
        {
          "output_type": "stream",
          "name": "stdout",
          "text": [
            "Python is open source language\n",
            "Python is  programming language\n"
          ]
        }
      ]
    },
    {
      "cell_type": "markdown",
      "source": [
        "###UNDERSTANDING GLOBAL KEYWORD\n",
        "Normally, when you create a variable inside a function, that variable is local, and can only be used inside that function.\n",
        "\n",
        "To create a global variable inside a function, you can use the global keyword."
      ],
      "metadata": {
        "id": "LAO4XzVE-IWv"
      }
    },
    {
      "cell_type": "code",
      "source": [
        "#Example- If you use the global keyword, the variable belongs to the global scope:\n",
        "def myfunc():\n",
        "  global x\n",
        "  x = \"programming language\"\n",
        "\n",
        "myfunc()\n",
        "\n",
        "print(\"Python is \" + x)"
      ],
      "metadata": {
        "colab": {
          "base_uri": "https://localhost:8080/"
        },
        "id": "zLeijOSK9xRF",
        "outputId": "010c28c6-7652-4b5f-c01d-ced2ccf40cfb"
      },
      "execution_count": 8,
      "outputs": [
        {
          "output_type": "stream",
          "name": "stdout",
          "text": [
            "Python is programming language\n"
          ]
        }
      ]
    },
    {
      "cell_type": "code",
      "source": [
        "#Example- To change the value of a global variable inside a function, refer to the variable by using the global keyword:\n",
        "x = \"awesome\"\n",
        "\n",
        "def myfunc():\n",
        "  global x\n",
        "  x = \"fantastic\"\n",
        "\n",
        "myfunc()\n",
        "\n",
        "print(\"Python is \" + x)"
      ],
      "metadata": {
        "colab": {
          "base_uri": "https://localhost:8080/"
        },
        "id": "6w-tpFZw-RnT",
        "outputId": "0a0cb1a8-ef89-42d2-8f33-2b727584193c"
      },
      "execution_count": 10,
      "outputs": [
        {
          "output_type": "stream",
          "name": "stdout",
          "text": [
            "Python is fantastic\n"
          ]
        }
      ]
    },
    {
      "cell_type": "code",
      "source": [],
      "metadata": {
        "id": "F2IeYITi-oeT"
      },
      "execution_count": null,
      "outputs": []
    }
  ]
}
