{
  "nbformat": 4,
  "nbformat_minor": 0,
  "metadata": {
    "colab": {
      "provenance": []
    },
    "kernelspec": {
      "name": "python3",
      "display_name": "Python 3"
    },
    "language_info": {
      "name": "python"
    }
  },
  "cells": [
    {
      "cell_type": "code",
      "execution_count": 4,
      "metadata": {
        "id": "-IHwlN0cZckX",
        "colab": {
          "base_uri": "https://localhost:8080/"
        },
        "outputId": "a0700b09-8bfc-432a-f1ae-30e114939a41"
      },
      "outputs": [
        {
          "output_type": "stream",
          "name": "stdout",
          "text": [
            "light: black\n",
            "light is broken\n"
          ]
        }
      ],
      "source": [
        "light=input(\"light: \")\n",
        "if(light==\"red\"):\n",
        "    print(\"stop\")\n",
        "elif(light==\"yellow\"):\n",
        "    print(\"ready\")\n",
        "elif(light==\"green\"):\n",
        "    print(\"go\")\n",
        "else:\n",
        "  print(\"light is broken\")"
      ]
    },
    {
      "cell_type": "code",
      "source": [
        "marks=int(input(\"marks: \"))\n",
        "if(marks >= 90):\n",
        "  print(\"A\")\n",
        "elif(marks >= 80 and marks <90):\n",
        "  print(\"B\")\n",
        "elif(marks >= 70 and marks <80):\n",
        "  print(\"C\")\n",
        "else:\n",
        "  print(\"D\")"
      ],
      "metadata": {
        "colab": {
          "base_uri": "https://localhost:8080/"
        },
        "id": "nRFHyolNYZh8",
        "outputId": "108cb953-5f9e-44a1-c810-eacd2fc8931a"
      },
      "execution_count": 9,
      "outputs": [
        {
          "output_type": "stream",
          "name": "stdout",
          "text": [
            "marks: 12\n",
            "D\n"
          ]
        }
      ]
    },
    {
      "cell_type": "code",
      "source": [
        "A = int(input(\"A: \"))\n",
        "G = input(\"M/F: \")\n",
        "if((A==1 or A==2) and G==\"M\"):\n",
        "  print(\"Fee is 100\")\n",
        "elif(A==3 or A==4 or G==\"F\"):\n",
        "  print(\"Fee is 200\")\n",
        "elif(A==5 and G==\"M\"):\n",
        "  print(\"Fee is 300\")\n",
        "else:\n",
        "  print(\"No Fee\")"
      ],
      "metadata": {
        "colab": {
          "base_uri": "https://localhost:8080/"
        },
        "id": "wDUy43o3ZJh_",
        "outputId": "310c6927-8164-47ba-a956-01952468f9dd"
      },
      "execution_count": 13,
      "outputs": [
        {
          "output_type": "stream",
          "name": "stdout",
          "text": [
            "A: 1\n",
            "M/F: m\n",
            "No Fee\n"
          ]
        }
      ]
    },
    {
      "cell_type": "code",
      "source": [
        "food=input(\"food: \")\n",
        "eat=\"Yes\" if food == \"cake\" else \"no\"\n",
        "print(eat)"
      ],
      "metadata": {
        "colab": {
          "base_uri": "https://localhost:8080/"
        },
        "id": "MRqFZMzOavwq",
        "outputId": "88b6f823-3639-4383-b8f1-9bf8ee5739b4"
      },
      "execution_count": 15,
      "outputs": [
        {
          "output_type": "stream",
          "name": "stdout",
          "text": [
            "food: cake\n",
            "Yes\n"
          ]
        }
      ]
    },
    {
      "cell_type": "code",
      "source": [
        "food=input(\"food: \")\n",
        "print(\"sweet\") if food==\"cake\" or food==\"jalebi\" else print(\"not sweet\")"
      ],
      "metadata": {
        "colab": {
          "base_uri": "https://localhost:8080/"
        },
        "id": "CDFIVhEcb3i8",
        "outputId": "ca7d6df7-dfe4-442b-a9f0-3049fa7ce6a2"
      },
      "execution_count": 16,
      "outputs": [
        {
          "output_type": "stream",
          "name": "stdout",
          "text": [
            "food: jalebi\n",
            "sweet\n"
          ]
        }
      ]
    },
    {
      "cell_type": "code",
      "source": [
        "age=int(input(\"age: \"))\n",
        "vote = (\"no\", \"yes\") [age>=18]\n",
        "print (vote)"
      ],
      "metadata": {
        "colab": {
          "base_uri": "https://localhost:8080/"
        },
        "id": "GtSvzm_bcONS",
        "outputId": "31043787-8f7a-445d-adfe-25e016dca947"
      },
      "execution_count": 20,
      "outputs": [
        {
          "output_type": "stream",
          "name": "stdout",
          "text": [
            "age: 18\n",
            "yes\n"
          ]
        }
      ]
    },
    {
      "cell_type": "code",
      "source": [
        "sal=float(input(\"salary: \"))\n",
        "tax=sal*(0.1,0.2) [sal>50000]\n",
        "print(tax)"
      ],
      "metadata": {
        "colab": {
          "base_uri": "https://localhost:8080/"
        },
        "id": "QxKrWQCbcliM",
        "outputId": "9ecd6ab8-3ccd-4d19-c49e-c7aeeff75b7e"
      },
      "execution_count": 21,
      "outputs": [
        {
          "output_type": "stream",
          "name": "stdout",
          "text": [
            "salary: 34004\n",
            "3400.4\n"
          ]
        }
      ]
    },
    {
      "cell_type": "code",
      "source": [],
      "metadata": {
        "id": "uQjy8ZkadLxJ"
      },
      "execution_count": null,
      "outputs": []
    }
  ]
}