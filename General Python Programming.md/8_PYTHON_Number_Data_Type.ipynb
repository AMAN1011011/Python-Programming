{
  "nbformat": 4,
  "nbformat_minor": 0,
  "metadata": {
    "colab": {
      "provenance": []
    },
    "kernelspec": {
      "name": "python3",
      "display_name": "Python 3"
    },
    "language_info": {
      "name": "python"
    }
  },
  "cells": [
    {
      "cell_type": "markdown",
      "source": [
        "##NUMBERS in PYTHON\n",
        "There are three numerical data types in python:\n",
        "* int\n",
        "* float\n",
        "* complex"
      ],
      "metadata": {
        "id": "I8ASaK9o1uu8"
      }
    },
    {
      "cell_type": "code",
      "source": [
        "#EXAMPLE\n",
        "x = 12    #int\n",
        "y = 12.5  #Float\n",
        "z = 1j    #Complex\n",
        "print(type(x))\n",
        "print(type(y))\n",
        "print(type(z))"
      ],
      "metadata": {
        "colab": {
          "base_uri": "https://localhost:8080/"
        },
        "id": "zfxRbVWm1x0y",
        "outputId": "c11baf97-ec0c-465b-877c-b06968e0e9d5"
      },
      "execution_count": null,
      "outputs": [
        {
          "output_type": "stream",
          "name": "stdout",
          "text": [
            "<class 'int'>\n",
            "<class 'float'>\n",
            "<class 'complex'>\n"
          ]
        }
      ]
    },
    {
      "cell_type": "markdown",
      "source": [
        "##INT or INTEGER DATA TYPE\n",
        "In Python, integers are zero, positive or negative whole numbers without a fractional part and having unlimited precision, e.g. 0, 100, -10."
      ],
      "metadata": {
        "id": "5C83LwQu2fOz"
      }
    },
    {
      "cell_type": "code",
      "source": [
        "#INT EXAMPLES\n",
        "x = 8\n",
        "y = 12345678907532223929859357\n",
        "z = -23445667\n",
        "\n",
        "print(type(x))\n",
        "print(type(y))\n",
        "print(type(z))"
      ],
      "metadata": {
        "id": "Lc_L-6IB2ixa",
        "colab": {
          "base_uri": "https://localhost:8080/"
        },
        "outputId": "1f7e28e3-74ab-4850-8ab6-519f73ccb578"
      },
      "execution_count": 1,
      "outputs": [
        {
          "output_type": "stream",
          "name": "stdout",
          "text": [
            "<class 'int'>\n",
            "<class 'int'>\n",
            "<class 'int'>\n"
          ]
        }
      ]
    },
    {
      "cell_type": "markdown",
      "source": [
        "###FLOAT DATAT TYPE\n",
        "Floating point numbers are decimal values or fractional numbers like 133.5, 2897.11, and 3571.213, whereas real numbers like 56, 2, and 33 are called integers."
      ],
      "metadata": {
        "id": "uV6RQfb8YAeX"
      }
    },
    {
      "cell_type": "code",
      "source": [
        "#FLOAT EXAMPLES\n",
        "x = 1222.3443\n",
        "y = 2.0\n",
        "z = -334059.1\n",
        "\n",
        "print(type(x))\n",
        "print(type(y))\n",
        "print(type(z))"
      ],
      "metadata": {
        "colab": {
          "base_uri": "https://localhost:8080/"
        },
        "id": "GciC8G5BYN79",
        "outputId": "db3e06a0-91b6-455b-d8f6-559deee1f644"
      },
      "execution_count": 2,
      "outputs": [
        {
          "output_type": "stream",
          "name": "stdout",
          "text": [
            "<class 'float'>\n",
            "<class 'float'>\n",
            "<class 'float'>\n"
          ]
        }
      ]
    },
    {
      "cell_type": "code",
      "source": [
        "#Float can also be scientific numbers with an \"e\" to indicate the power of 10.\n",
        "x = 1222e10\n",
        "y = 10E8\n",
        "z = -34.7e200\n",
        "\n",
        "print(type(x))\n",
        "print(type(y))\n",
        "print(type(z))"
      ],
      "metadata": {
        "colab": {
          "base_uri": "https://localhost:8080/"
        },
        "id": "TsZn4Aa7YZT-",
        "outputId": "e88affbd-b8f4-44ad-eed4-8cc58c4a7c83"
      },
      "execution_count": 3,
      "outputs": [
        {
          "output_type": "stream",
          "name": "stdout",
          "text": [
            "<class 'float'>\n",
            "<class 'float'>\n",
            "<class 'float'>\n"
          ]
        }
      ]
    },
    {
      "cell_type": "markdown",
      "source": [
        "###COMPLEX DATA TYPE\n",
        "The complex data type in python consists of two values, the first one is the real part of the complex number, and the second one is the imaginary part of the complex number. We usually denote the real part using i and the imaginary part with j. For example, (3 + 7j) or (3i + 7j)."
      ],
      "metadata": {
        "id": "2wNsT5EOYvWG"
      }
    },
    {
      "cell_type": "code",
      "source": [
        "#COMPLEX DATA TYPE EXAMPLE\n",
        "x = 12+55j\n",
        "y = 53654j\n",
        "z = -12345j\n",
        "\n",
        "print(type(x))\n",
        "print(type(y))\n",
        "print(type(z))"
      ],
      "metadata": {
        "colab": {
          "base_uri": "https://localhost:8080/"
        },
        "id": "yB7VaEb3Y3Rl",
        "outputId": "a301adbe-3511-446b-90d7-29a597528cee"
      },
      "execution_count": 5,
      "outputs": [
        {
          "output_type": "stream",
          "name": "stdout",
          "text": [
            "<class 'complex'>\n",
            "<class 'complex'>\n",
            "<class 'complex'>\n"
          ]
        }
      ]
    },
    {
      "cell_type": "markdown",
      "source": [
        "###CONVERSION OF DATATYPES\n",
        "You can convert from one type to another with the int(), float(), and complex() methods:"
      ],
      "metadata": {
        "id": "f8yKD5m5ZHdH"
      }
    },
    {
      "cell_type": "code",
      "source": [
        "#CONVERSION OF DATA TYPES\n",
        "x = 23    # int\n",
        "y = 12.8  # float\n",
        "z = 13j   # complex\n",
        "\n",
        "#convert from int to float:\n",
        "a = float(x)\n",
        "\n",
        "#convert from float to int:\n",
        "b = int(y)\n",
        "\n",
        "#convert from int to complex:\n",
        "c = complex(x)\n",
        "\n",
        "print(a)\n",
        "print(b)\n",
        "print(c)\n",
        "\n",
        "print(type(a))\n",
        "print(type(b))\n",
        "print(type(c))"
      ],
      "metadata": {
        "colab": {
          "base_uri": "https://localhost:8080/"
        },
        "id": "TqPCbg2BZMnf",
        "outputId": "6d194a4b-15ed-4ce1-d8cc-079f336bf041"
      },
      "execution_count": 6,
      "outputs": [
        {
          "output_type": "stream",
          "name": "stdout",
          "text": [
            "23.0\n",
            "12\n",
            "(23+0j)\n",
            "<class 'float'>\n",
            "<class 'int'>\n",
            "<class 'complex'>\n"
          ]
        }
      ]
    }
  ]
}
