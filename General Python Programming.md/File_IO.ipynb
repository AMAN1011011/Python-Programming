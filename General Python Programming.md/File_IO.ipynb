{
  "nbformat": 4,
  "nbformat_minor": 0,
  "metadata": {
    "colab": {
      "provenance": []
    },
    "kernelspec": {
      "name": "python3",
      "display_name": "Python 3"
    },
    "language_info": {
      "name": "python"
    }
  },
  "cells": [
    {
      "cell_type": "code",
      "source": [
        "f= open(\"/content/txt doc.txt\", \"r\")\n",
        "data = f.read()\n",
        "print(data)\n",
        "print(type(data))\n",
        "f.close()"
      ],
      "metadata": {
        "colab": {
          "base_uri": "https://localhost:8080/"
        },
        "id": "ltdUWwNBfEt4",
        "outputId": "a9e6291e-bedb-477e-f057-7e77e342e5c8"
      },
      "execution_count": null,
      "outputs": [
        {
          "output_type": "stream",
          "name": "stdout",
          "text": [
            "I am learning Python programming language\n",
            "<class 'str'>\n"
          ]
        }
      ]
    },
    {
      "cell_type": "code",
      "source": [
        "f= open(\"/content/txt doc.txt\", \"r\")\n",
        "data=f.read()\n",
        "print(data)\n",
        "line1 = f.readline\n",
        "print(line1)"
      ],
      "metadata": {
        "colab": {
          "base_uri": "https://localhost:8080/"
        },
        "id": "bnppwxA9gDVe",
        "outputId": "a16717da-d7a3-4810-919a-d7bf7c02f570"
      },
      "execution_count": null,
      "outputs": [
        {
          "output_type": "stream",
          "name": "stdout",
          "text": [
            "I am learning Python programming language\n",
            "<built-in method readline of _io.TextIOWrapper object at 0x7cfad41de740>\n"
          ]
        }
      ]
    },
    {
      "cell_type": "code",
      "source": [
        "#Write data\n",
        "f = open(\"/content/txt doc.txt\", \"w\")\n",
        "f.write(\"I want to learn Data Science from tomorrow 123\")\n",
        "f.close()"
      ],
      "metadata": {
        "id": "EbknjvkNhio3"
      },
      "execution_count": null,
      "outputs": []
    },
    {
      "cell_type": "code",
      "source": [
        "#append data\n",
        "f = open(\"/content/txt doc.txt\", \"a\")\n",
        "f.write(\"then I'll move to big data\")\n",
        "f.close()"
      ],
      "metadata": {
        "id": "vDh5x4oTilxV"
      },
      "execution_count": null,
      "outputs": []
    },
    {
      "cell_type": "code",
      "source": [
        "#giving next line character\n",
        "f = open(\"/content/txt doc.txt\", \"a\")\n",
        "f.write(\"\\n after that data ware house\")\n",
        "f.close()"
      ],
      "metadata": {
        "id": "GtF8IRc4jDhc"
      },
      "execution_count": null,
      "outputs": []
    },
    {
      "cell_type": "code",
      "source": [
        "with open(\"txt doc.txt\", \"r\") as f:\n",
        "  data = f.read()\n",
        "  print(data)"
      ],
      "metadata": {
        "id": "PqUwN1YCg7Sb"
      },
      "execution_count": null,
      "outputs": []
    },
    {
      "cell_type": "code",
      "source": [
        "import os\n",
        "os.remove(txt doc)"
      ],
      "metadata": {
        "id": "VXnNz02VhHWn"
      },
      "execution_count": null,
      "outputs": []
    }
  ]
}