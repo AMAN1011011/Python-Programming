{
  "nbformat": 4,
  "nbformat_minor": 0,
  "metadata": {
    "colab": {
      "provenance": []
    },
    "kernelspec": {
      "name": "python3",
      "display_name": "Python 3"
    },
    "language_info": {
      "name": "python"
    }
  },
  "cells": [
    {
      "cell_type": "markdown",
      "source": [
        "##DATA TYPES in PYTHON\n",
        "\n",
        "Data types are the classification or categorization of knowledge items. It represents the type useful that tells what operations are often performed on specific data. Since everything is an object in Python programming, data types are classes and variables are instances (object) of those classes.\n",
        "\n",
        "The following are the Data types in python : \n",
        "*  NUMERIC\n",
        "    *  Integer\n",
        "    *  Complex Numbers\n",
        "    *  Float\n",
        "*  SEQUENCE TYPE\n",
        "    *  String\n",
        "    *  List\n",
        "    *  Tuple\n",
        "*  SET\n",
        "\n",
        "*  BOOLEAN\n",
        "\n",
        "*  DICTIONARY\n",
        "\n",
        "\n",
        "\n"
      ],
      "metadata": {
        "id": "ReaKqTtTq5dW"
      }
    },
    {
      "cell_type": "markdown",
      "source": [
        "###BUILT IN DATA TYPES\n",
        "Following are the built in data types in python:\n",
        "* TEXT TYPE: str\n",
        "* NUMERIC TYPE: int, float, complex\n",
        "* SEQUENCE TYPE: list, tuple, range\n",
        "* MAPPING TYPE: dict\n",
        "* SET TYPES: set, frozenset\n",
        "* BOOLEAN TYPE: bool\n",
        "* BINART TYPE: bytes, bytearray, memoryview\n",
        "* NONE TYPE: none type "
      ],
      "metadata": {
        "id": "jDN8iXfZsuet"
      }
    },
    {
      "cell_type": "markdown",
      "source": [
        "###SETTING A DATA TYPE\n",
        "In Python, the data type is set when you assign a value to a variable:"
      ],
      "metadata": {
        "id": "B4o5vqGCuNSl"
      }
    },
    {
      "cell_type": "code",
      "source": [
        "#EAMPLE 1\n",
        "x = \"Hello World\"\n",
        "print(type(x))  #str or string: In computer programming, a string is a sequence of characters. For example, \"hello\" is a string containing a sequence of characters 'h' , 'e' , 'l' , 'l' , and 'o' ."
      ],
      "metadata": {
        "colab": {
          "base_uri": "https://localhost:8080/"
        },
        "id": "IlQ9M6XSuQ2z",
        "outputId": "30fb5048-0d00-4079-f7a9-9841c731c729"
      },
      "execution_count": 3,
      "outputs": [
        {
          "output_type": "stream",
          "name": "stdout",
          "text": [
            "<class 'str'>\n"
          ]
        }
      ]
    },
    {
      "cell_type": "code",
      "source": [
        "#EAMPLE 2\n",
        "x = 45\n",
        "print(type(x))  # Int, or integer: is a whole number, positive or negative, without decimals, of unlimited length."
      ],
      "metadata": {
        "colab": {
          "base_uri": "https://localhost:8080/"
        },
        "id": "eOD8QWZrucIB",
        "outputId": "74bb5b9a-ac2f-40ad-83c5-bd78a406da24"
      },
      "execution_count": 2,
      "outputs": [
        {
          "output_type": "stream",
          "name": "stdout",
          "text": [
            "<class 'int'>\n"
          ]
        }
      ]
    },
    {
      "cell_type": "code",
      "source": [
        "#EAMPLE 3\n",
        "x = 45.2\n",
        "print(type(x))  #float or Floating point numbers are decimal values or fractional numbers like 133.5, 2897.11, and 3571.213, whereas real numbers like 56, 2, and 33 are called integers."
      ],
      "metadata": {
        "colab": {
          "base_uri": "https://localhost:8080/"
        },
        "id": "QW2MT2nYumb6",
        "outputId": "64397222-a7f1-4cca-fe52-4be6b6d232e5"
      },
      "execution_count": 18,
      "outputs": [
        {
          "output_type": "stream",
          "name": "stdout",
          "text": [
            "<class 'float'>\n"
          ]
        }
      ]
    },
    {
      "cell_type": "code",
      "source": [
        "#EAMPLE 4\n",
        "x = 1j\n",
        "print(type(x))  #The complex data type in python consists of two values, the first one is the real part of the complex number, and the second one is the imaginary part of the complex number. We usually denote the real part using i and the imaginary part with j. For example, (3 + 7j) or (3i + 7j)."
      ],
      "metadata": {
        "colab": {
          "base_uri": "https://localhost:8080/"
        },
        "id": "_VdR1_Kkvd9k",
        "outputId": "1f92e495-b286-4df0-c308-435394d6f7c4"
      },
      "execution_count": 21,
      "outputs": [
        {
          "output_type": "stream",
          "name": "stdout",
          "text": [
            "<class 'complex'>\n"
          ]
        }
      ]
    },
    {
      "cell_type": "code",
      "source": [
        "#EAMPLE 5\n",
        "x = [\"Car\", \"Bikes\", \"Ships\"]\n",
        "print(type(x))  #List. Lists are used to store multiple items in a single variable. Lists are one of 4 built-in data types in Python used to store collections of data, the other 3 are Tuple, Set, and Dictionary, all with different qualities and usage."
      ],
      "metadata": {
        "colab": {
          "base_uri": "https://localhost:8080/"
        },
        "id": "cVB6XQDeveL0",
        "outputId": "fb4b01a9-3212-4ad3-ac49-f4a76f3e07b9"
      },
      "execution_count": 23,
      "outputs": [
        {
          "output_type": "stream",
          "name": "stdout",
          "text": [
            "<class 'list'>\n"
          ]
        }
      ]
    },
    {
      "cell_type": "code",
      "source": [
        "#EAMPLE 6\n",
        "x = (\"Car\", \"Bikes\", \"Ships\")\n",
        "print(type(x))  #Tuples are used to store multiple items in a single variable. A tuple is a collection which is ordered and unchangeable."
      ],
      "metadata": {
        "colab": {
          "base_uri": "https://localhost:8080/"
        },
        "id": "irfFnIKpveZc",
        "outputId": "7d2cc139-289e-4d53-c5da-d74f0aab2ee8"
      },
      "execution_count": 25,
      "outputs": [
        {
          "output_type": "stream",
          "name": "stdout",
          "text": [
            "<class 'tuple'>\n"
          ]
        }
      ]
    },
    {
      "cell_type": "code",
      "source": [
        "#EAMPLE 7\n",
        "x = range(6)\n",
        "print(x)\n",
        "print(type(x))  #It is an in-built function in Python which returns a sequence of numbers starting from 0 and increments to 1 until it reaches a specified number"
      ],
      "metadata": {
        "colab": {
          "base_uri": "https://localhost:8080/"
        },
        "id": "Amc8VyBovem8",
        "outputId": "2f4a68ef-3f39-4286-d4b7-df287954e00a"
      },
      "execution_count": 27,
      "outputs": [
        {
          "output_type": "stream",
          "name": "stdout",
          "text": [
            "range(0, 6)\n",
            "<class 'range'>\n"
          ]
        }
      ]
    },
    {
      "cell_type": "code",
      "source": [
        "#EAMPLE 8\n",
        "x = {\"Car\" : \"Bike\", \"Ship\" : 21}\t\n",
        "print(type(x))  #Dictionaries are used to store data values in key:value pairs. A dictionary is a collection which is ordered*, changeable and do not allow duplicates"
      ],
      "metadata": {
        "colab": {
          "base_uri": "https://localhost:8080/"
        },
        "id": "Nb75Pk4Bvexs",
        "outputId": "43bcdd50-1aff-4849-dee1-aae2e8917284"
      },
      "execution_count": 30,
      "outputs": [
        {
          "output_type": "stream",
          "name": "stdout",
          "text": [
            "<class 'dict'>\n"
          ]
        }
      ]
    },
    {
      "cell_type": "code",
      "source": [
        "#EAMPLE 9\n",
        "x = {\"Cars\", \"Bikes\", \"Ships\"}\t\n",
        "print(type(x))  #A set is a collection which is unordered, unchangeable*, and unindexed."
      ],
      "metadata": {
        "colab": {
          "base_uri": "https://localhost:8080/"
        },
        "id": "-bqLikGave7c",
        "outputId": "2a2dcb89-1527-405c-e3dd-6a01c60cddc9"
      },
      "execution_count": 31,
      "outputs": [
        {
          "output_type": "stream",
          "name": "stdout",
          "text": [
            "<class 'set'>\n"
          ]
        }
      ]
    },
    {
      "cell_type": "code",
      "source": [
        "#EAMPLE 10\n",
        "x = frozenset({\"Cars\", \"Bikes\", \"Ships\"})\n",
        "print(type(x))  #In Python, frozenset() is a function that takes an iterable and returns its frozenset object counterpart. A frozenset object is an immutable, unordered data type. A frozenset contains unique values, which makes it very similar to set data type. It is immutable like tuples."
      ],
      "metadata": {
        "colab": {
          "base_uri": "https://localhost:8080/"
        },
        "id": "j9YmBWtPvfEU",
        "outputId": "938a438f-ac1e-4e0f-a713-b1523df1413a"
      },
      "execution_count": 33,
      "outputs": [
        {
          "output_type": "stream",
          "name": "stdout",
          "text": [
            "<class 'frozenset'>\n"
          ]
        }
      ]
    },
    {
      "cell_type": "code",
      "source": [
        "#EAMPLE 11\n",
        "x = True\t\n",
        "print(type(x))  #Python boolean type is one of the built-in data types provided by Python, which represents one of the two values i.e. True or False"
      ],
      "metadata": {
        "colab": {
          "base_uri": "https://localhost:8080/"
        },
        "id": "ZIWlFC6qvfM8",
        "outputId": "f06ba15a-b79b-49f7-8ad1-71978b29e50c"
      },
      "execution_count": 35,
      "outputs": [
        {
          "output_type": "stream",
          "name": "stdout",
          "text": [
            "<class 'bool'>\n"
          ]
        }
      ]
    },
    {
      "cell_type": "code",
      "source": [
        "#EAMPLE 12\n",
        "x = b\"Hello\"\t\n",
        "print(type(x))  #The BYTE data type stores any kind of binary data in an undifferentiated byte stream."
      ],
      "metadata": {
        "colab": {
          "base_uri": "https://localhost:8080/"
        },
        "id": "npFPxp_HvfVt",
        "outputId": "ad13f04c-4fb7-4d8e-a9f1-47d21ff6c916"
      },
      "execution_count": 36,
      "outputs": [
        {
          "output_type": "stream",
          "name": "stdout",
          "text": [
            "<class 'bytes'>\n"
          ]
        }
      ]
    },
    {
      "cell_type": "code",
      "source": [
        "#EAMPLE 13\n",
        "x = bytearray(5)\t\n",
        "print(type(x))  #The bytearray type is a mutable sequence of integers in the range 0 <= x < 256."
      ],
      "metadata": {
        "colab": {
          "base_uri": "https://localhost:8080/"
        },
        "id": "SuHu4KMPvffM",
        "outputId": "be35cc4a-ec8e-43dc-a729-0883e7913257"
      },
      "execution_count": 37,
      "outputs": [
        {
          "output_type": "stream",
          "name": "stdout",
          "text": [
            "<class 'bytearray'>\n"
          ]
        }
      ]
    },
    {
      "cell_type": "code",
      "source": [
        "#EXAMPLE 14\n",
        "x = memoryview(bytes(5))\n",
        "print(type(x))  #memoryview objects allow Python code to access the internal data of an object that supports the buffer protocol without copying. The memoryview() function allows direct read and write access to an object's byte-oriented data without needing to copy it first."
      ],
      "metadata": {
        "colab": {
          "base_uri": "https://localhost:8080/"
        },
        "id": "7sWfe8d_z1rq",
        "outputId": "f6556514-a644-4f7d-a904-01bfc8a35e1a"
      },
      "execution_count": 42,
      "outputs": [
        {
          "output_type": "stream",
          "name": "stdout",
          "text": [
            "<class 'memoryview'>\n"
          ]
        }
      ]
    },
    {
      "cell_type": "code",
      "source": [
        "#EXAMPLE 15\n",
        "x = None\t\n",
        "print(type(x))  #The None keyword is used to define a null value, or no value at all. None is not the same as 0, False, or an empty string. None is a data type of its own (NoneType) and only None can be None."
      ],
      "metadata": {
        "colab": {
          "base_uri": "https://localhost:8080/"
        },
        "id": "8xBUOEfX0Iuq",
        "outputId": "cda56e17-7625-40b3-a70f-b3729b830dc9"
      },
      "execution_count": 43,
      "outputs": [
        {
          "output_type": "stream",
          "name": "stdout",
          "text": [
            "<class 'NoneType'>\n"
          ]
        }
      ]
    }
  ]
}
