{
  "nbformat": 4,
  "nbformat_minor": 0,
  "metadata": {
    "colab": {
      "provenance": []
    },
    "kernelspec": {
      "name": "python3",
      "display_name": "Python 3"
    },
    "language_info": {
      "name": "python"
    }
  },
  "cells": [
    {
      "cell_type": "markdown",
      "source": [
        "#PYTHON STRINGS\n",
        "#####Python string is the collection of the characters surrounded by single quotes, double quotes, or triple quotes. The computer does not understand the characters; internally, it stores manipulated character as the combination of the 0's and 1's.\n",
        "#####Each character is encoded in the ASCII or Unicode character. So we can say that Python strings are also called the collection of Unicode characters.\n",
        "\n",
        "#####In Python, strings can be created by enclosing the character or the sequence of characters in the quotes. Python allows us to use single quotes, double quotes, or triple quotes to create the string.\n",
        "\n",
        "#####Strings in python are surroundes by double quotation and single quotation, however both are same"
      ],
      "metadata": {
        "id": "ctucmb4vY5-5"
      }
    },
    {
      "cell_type": "code",
      "source": [
        "#\"Python\" and 'Python' are same\n",
        "print(\"Python\")\n",
        "print('Python')"
      ],
      "metadata": {
        "id": "phzcfhp0Y69_",
        "colab": {
          "base_uri": "https://localhost:8080/"
        },
        "outputId": "386c9bf1-0d32-445a-d6cf-ace7f78491ce"
      },
      "execution_count": null,
      "outputs": [
        {
          "output_type": "stream",
          "name": "stdout",
          "text": [
            "Python\n",
            "Python\n"
          ]
        }
      ]
    },
    {
      "cell_type": "code",
      "source": [
        "#Assigning string to a variable\n",
        "x=\"Python\"\n",
        "print(x)"
      ],
      "metadata": {
        "colab": {
          "base_uri": "https://localhost:8080/"
        },
        "id": "Hu7HIRSxzlia",
        "outputId": "19cb719e-cd95-46d4-f5fc-c568cd96bcd3"
      },
      "execution_count": null,
      "outputs": [
        {
          "output_type": "stream",
          "name": "stdout",
          "text": [
            "Python\n"
          ]
        }
      ]
    },
    {
      "cell_type": "markdown",
      "source": [
        "###Multiline String\n",
        "Multiline strings can be assignes using triple quotation. This can be either single or double quotation (\"\"\"string\"\"\") or ('''string''')"
      ],
      "metadata": {
        "id": "_aSpCFeNz6lX"
      }
    },
    {
      "cell_type": "code",
      "source": [
        "#Multiline String Examole\n",
        "a=\"\"\"Apple, Mango, Banana,\n",
        "Orangr, Guava,\n",
        "Pineapple, Strawberry\"\"\"\n",
        "print(a)\n",
        "\n",
        "# OR\n",
        "\n",
        "b='''Apple, Mango, Banana,\n",
        "Orangr, Guava,\n",
        "Pineapple, Strawberry'''\n",
        "print(b)"
      ],
      "metadata": {
        "colab": {
          "base_uri": "https://localhost:8080/"
        },
        "id": "ap6JcBJUz1pW",
        "outputId": "42e3a403-45d6-4fb1-b186-dec1486e0fdb"
      },
      "execution_count": null,
      "outputs": [
        {
          "output_type": "stream",
          "name": "stdout",
          "text": [
            "Apple, Mango, Banana,\n",
            "Orangr, Guava,\n",
            "Pineapple, Strawberry\n",
            "Apple, Mango, Banana,\n",
            "Orangr, Guava,\n",
            "Pineapple, Strawberry\n"
          ]
        }
      ]
    },
    {
      "cell_type": "markdown",
      "source": [
        "###STRING INDEXING & SPLITTING\n",
        "#####The indexing of the Python strings starts from 0. For example, The string \"HELLO\" is indexed as given in the below figure.\n",
        "\n",
        "#### H----E----L----L----o\n",
        "#### 0----1----2----3----4"
      ],
      "metadata": {
        "id": "le3deEXwV_eF"
      }
    },
    {
      "cell_type": "code",
      "source": [
        "#String indexing example\n",
        "str=\"HELLO\"\n",
        "print(str[0])\n",
        "print(str[1])\n",
        "print(str[2])\n",
        "print(str[3])\n",
        "print(str[4])"
      ],
      "metadata": {
        "colab": {
          "base_uri": "https://localhost:8080/"
        },
        "id": "XEVPgZTXWaHO",
        "outputId": "3af9bc19-540f-49d5-883b-da41d4de026e"
      },
      "execution_count": 1,
      "outputs": [
        {
          "output_type": "stream",
          "name": "stdout",
          "text": [
            "H\n",
            "E\n",
            "L\n",
            "L\n",
            "O\n"
          ]
        }
      ]
    },
    {
      "cell_type": "markdown",
      "source": [
        "###STRING LENGTH\n",
        "To get the length of a string, use the len() function."
      ],
      "metadata": {
        "id": "ItqrJPrIYA5z"
      }
    },
    {
      "cell_type": "code",
      "source": [
        "a = \"Hello, World!\"\n",
        "print(len(a))"
      ],
      "metadata": {
        "colab": {
          "base_uri": "https://localhost:8080/"
        },
        "id": "eEhMpfk5YGHE",
        "outputId": "830c5f07-fb22-4f4a-c20f-4f4f49b3f875"
      },
      "execution_count": 11,
      "outputs": [
        {
          "output_type": "stream",
          "name": "stdout",
          "text": [
            "13\n"
          ]
        }
      ]
    },
    {
      "cell_type": "markdown",
      "source": [
        "#####In Python, the slice operator [] is used to access the individual characters of the string. However, we can use the : (colon) operator in Python to access the substring from the given string."
      ],
      "metadata": {
        "id": "P9Vjx9pZXDmD"
      }
    },
    {
      "cell_type": "code",
      "source": [
        "str=\"HELLO\"\n",
        "print(str[:])"
      ],
      "metadata": {
        "colab": {
          "base_uri": "https://localhost:8080/"
        },
        "id": "3MVE6rmcWuLe",
        "outputId": "65b17f10-1a28-462d-8c3c-38188bc96f04"
      },
      "execution_count": 2,
      "outputs": [
        {
          "output_type": "stream",
          "name": "stdout",
          "text": [
            "HELLO\n"
          ]
        }
      ]
    },
    {
      "cell_type": "code",
      "source": [
        "str=\"HELLO\"\n",
        "print(str[0:])"
      ],
      "metadata": {
        "colab": {
          "base_uri": "https://localhost:8080/"
        },
        "id": "RQDvMjrmXRyh",
        "outputId": "19fc5619-9efe-4727-e755-426f848b2b17"
      },
      "execution_count": 3,
      "outputs": [
        {
          "output_type": "stream",
          "name": "stdout",
          "text": [
            "HELLO\n"
          ]
        }
      ]
    },
    {
      "cell_type": "code",
      "source": [
        "str=\"HELLO\"\n",
        "print(str[:5])"
      ],
      "metadata": {
        "colab": {
          "base_uri": "https://localhost:8080/"
        },
        "id": "rafel5rvXU8C",
        "outputId": "c0bdb628-3223-4673-bec5-eaafcc724c33"
      },
      "execution_count": 4,
      "outputs": [
        {
          "output_type": "stream",
          "name": "stdout",
          "text": [
            "HELLO\n"
          ]
        }
      ]
    },
    {
      "cell_type": "code",
      "source": [
        "str=\"HELLO\"\n",
        "print(str[3:])"
      ],
      "metadata": {
        "colab": {
          "base_uri": "https://localhost:8080/"
        },
        "id": "9NQhrcTjXYZa",
        "outputId": "644ef829-12a6-468c-c472-bea6c07f5d62"
      },
      "execution_count": 5,
      "outputs": [
        {
          "output_type": "stream",
          "name": "stdout",
          "text": [
            "LO\n"
          ]
        }
      ]
    },
    {
      "cell_type": "code",
      "source": [
        "str=\"HELLO\"\n",
        "print(str[0:4])"
      ],
      "metadata": {
        "colab": {
          "base_uri": "https://localhost:8080/"
        },
        "id": "DqmjpXuFXcPi",
        "outputId": "e30f0e1a-e0e8-4abc-b12f-ac5707622051"
      },
      "execution_count": 6,
      "outputs": [
        {
          "output_type": "stream",
          "name": "stdout",
          "text": [
            "HELL\n"
          ]
        }
      ]
    },
    {
      "cell_type": "code",
      "source": [
        "str=\"HELLO\"\n",
        "print(str[1:3])"
      ],
      "metadata": {
        "colab": {
          "base_uri": "https://localhost:8080/"
        },
        "id": "JM4n_hBKXd5K",
        "outputId": "928822b0-d409-451e-847d-801f38ffceec"
      },
      "execution_count": 7,
      "outputs": [
        {
          "output_type": "stream",
          "name": "stdout",
          "text": [
            "EL\n"
          ]
        }
      ]
    },
    {
      "cell_type": "markdown",
      "source": [
        "#####We can do the negative slicing in the string; it starts from the rightmost character, which is indicated as -1. The second rightmost index indicates -2, and so on. "
      ],
      "metadata": {
        "id": "fp17MDUDXq9q"
      }
    },
    {
      "cell_type": "code",
      "source": [
        "str=\"HELLO\"\n",
        "print(str[-3:-1])"
      ],
      "metadata": {
        "colab": {
          "base_uri": "https://localhost:8080/"
        },
        "id": "0eIxHYa5XsSB",
        "outputId": "8ef9f07d-a3d4-447d-b0fb-909c5c3da381"
      },
      "execution_count": 8,
      "outputs": [
        {
          "output_type": "stream",
          "name": "stdout",
          "text": [
            "LL\n"
          ]
        }
      ]
    },
    {
      "cell_type": "code",
      "source": [
        "str=\"HELLO\"\n",
        "print(str[-4:-1])"
      ],
      "metadata": {
        "colab": {
          "base_uri": "https://localhost:8080/"
        },
        "id": "JsGIJ3tIXzPa",
        "outputId": "a83f67ed-7d50-416c-9ab7-18280277612b"
      },
      "execution_count": 9,
      "outputs": [
        {
          "output_type": "stream",
          "name": "stdout",
          "text": [
            "ELL\n"
          ]
        }
      ]
    },
    {
      "cell_type": "code",
      "source": [
        "str=\"HELLO\"\n",
        "print(str[-4])"
      ],
      "metadata": {
        "colab": {
          "base_uri": "https://localhost:8080/"
        },
        "id": "nw20G0s-X16B",
        "outputId": "ebd6bca5-0f12-4531-f659-52351b8ffad6"
      },
      "execution_count": 10,
      "outputs": [
        {
          "output_type": "stream",
          "name": "stdout",
          "text": [
            "E\n"
          ]
        }
      ]
    },
    {
      "cell_type": "markdown",
      "source": [
        "###DELETING A STRING\n",
        "As we know that strings are immutable. We cannot delete or remove the characters from the string.  But we can delete the entire string using the del keyword."
      ],
      "metadata": {
        "id": "Y6ObqAvaYYwT"
      }
    },
    {
      "cell_type": "code",
      "source": [
        "str = \"HELLOWORLD\"  \n",
        "del str[1] "
      ],
      "metadata": {
        "colab": {
          "base_uri": "https://localhost:8080/",
          "height": 182
        },
        "id": "65cFhpYPYYep",
        "outputId": "d1f50cd4-a141-45d5-bcc5-2ec3b546411b"
      },
      "execution_count": 13,
      "outputs": [
        {
          "output_type": "error",
          "ename": "TypeError",
          "evalue": "ignored",
          "traceback": [
            "\u001b[0;31m---------------------------------------------------------------------------\u001b[0m",
            "\u001b[0;31mTypeError\u001b[0m                                 Traceback (most recent call last)",
            "\u001b[0;32m<ipython-input-13-f9cdf7f6270b>\u001b[0m in \u001b[0;36m<module>\u001b[0;34m\u001b[0m\n\u001b[1;32m      1\u001b[0m \u001b[0mstr\u001b[0m \u001b[0;34m=\u001b[0m \u001b[0;34m\"HELLOWORLD\"\u001b[0m\u001b[0;34m\u001b[0m\u001b[0;34m\u001b[0m\u001b[0m\n\u001b[0;32m----> 2\u001b[0;31m \u001b[0;32mdel\u001b[0m \u001b[0mstr\u001b[0m\u001b[0;34m[\u001b[0m\u001b[0;36m1\u001b[0m\u001b[0;34m]\u001b[0m\u001b[0;34m\u001b[0m\u001b[0;34m\u001b[0m\u001b[0m\n\u001b[0m",
            "\u001b[0;31mTypeError\u001b[0m: 'str' object doesn't support item deletion"
          ]
        }
      ]
    },
    {
      "cell_type": "markdown",
      "source": [
        "###STRING OPERATORS\n",
        "\n",
        "#####**(+) operator:** It is known as concatenation operator used to join the strings given either side of the operator.\n",
        "\n",
        "\n",
        "#####**(*) operator:** It is known as repetition operator. It concatenates the multiple copies of the same string.\n",
        "\n",
        "\n",
        "#####**([ ]) operator:** It is known as slice operator. It is used to access the sub-strings of a particular string.\n",
        "\n",
        "\n",
        "#####**([:]) operator:** It is known as range slice operator. It is used to access the characters from the specified range.\n",
        "\n",
        "\n",
        "#####**(in) operator:** It is known as membership operator. It returns if a particular sub-string is present in the specified string.\n",
        "\n",
        "\n",
        "#####**(not in) operator:** It is also a membership operator and does the exact reverse of in. It returns true if a particular substring is not present in the specified string.\n",
        "\n",
        "\n",
        "#####**(r/R) operator:** It is used to specify the raw string. Raw strings are used in the cases where we need to print the actual meaning of escape characters such as \"C://python\". To define any string as a raw string, the character r or R is followed by the string.\n",
        "\n",
        "\n",
        "#####**(%) operator:** \tIt is used to perform string formatting. It makes use of the format specifiers used in C programming like %d or %f to map their values in python. We will discuss how formatting is done in python."
      ],
      "metadata": {
        "id": "n15lULa9ZI7i"
      }
    },
    {
      "cell_type": "code",
      "source": [
        "str = \"Hello\"     \n",
        "str1 = \" world\"\n",
        "\n",
        "# prints HelloHelloHello \n",
        "print(str*3)    \n",
        "\n",
        "# prints Hello world\n",
        "print(str+str1)     \n",
        "\n",
        "# prints o\n",
        "print(str[4])                \n",
        "\n",
        "# prints ll\n",
        "print(str[2:4]);                     \n",
        "\n",
        "# prints false as w is not present in str\n",
        "print('w' in str)     \n",
        "\n",
        "# prints false as wo is present in str1.\n",
        "print('wo' not in str1)\n",
        "\n",
        "# prints C://python37 as it is written    \n",
        "print(r'C://python37') \n",
        "\n",
        "# prints The string str : Hello    \n",
        "print(\"The string str : %s\"%(str)) "
      ],
      "metadata": {
        "colab": {
          "base_uri": "https://localhost:8080/"
        },
        "id": "cPCrg1BiarrC",
        "outputId": "3d07e290-2d43-47dd-b24a-46a1f68209a9"
      },
      "execution_count": 15,
      "outputs": [
        {
          "output_type": "stream",
          "name": "stdout",
          "text": [
            "HelloHelloHello\n",
            "Hello world\n",
            "o\n",
            "ll\n",
            "False\n",
            "False\n",
            "C://python37\n",
            "The string str : Hello\n"
          ]
        }
      ]
    },
    {
      "cell_type": "code",
      "source": [],
      "metadata": {
        "id": "A5vO3oNea_E7"
      },
      "execution_count": null,
      "outputs": []
    }
  ]
}