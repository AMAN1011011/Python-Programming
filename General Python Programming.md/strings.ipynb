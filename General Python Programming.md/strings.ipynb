{
  "nbformat": 4,
  "nbformat_minor": 0,
  "metadata": {
    "colab": {
      "provenance": []
    },
    "kernelspec": {
      "name": "python3",
      "display_name": "Python 3"
    },
    "language_info": {
      "name": "python"
    }
  },
  "cells": [
    {
      "cell_type": "code",
      "source": [
        "str1=\"this is a string\"\n",
        "str2='this is a string'\n",
        "str3=\"\"\"this is a string\"\"\"\n",
        "str4='''this is a string'''\n",
        "print(str1)\n",
        "print(str2)\n",
        "print(str3)\n",
        "print(str4)"
      ],
      "metadata": {
        "colab": {
          "base_uri": "https://localhost:8080/"
        },
        "id": "uQjy8ZkadLxJ",
        "outputId": "182fb96d-f839-4ae3-c5f2-5e8dd7542e95"
      },
      "execution_count": 22,
      "outputs": [
        {
          "output_type": "stream",
          "name": "stdout",
          "text": [
            "this is a string\n",
            "this is a string\n",
            "this is a string\n",
            "this is a string\n"
          ]
        }
      ]
    },
    {
      "cell_type": "code",
      "source": [
        "str1=\"this is a string and,\\n it is in python programming language\"\n",
        "print(str1)"
      ],
      "metadata": {
        "colab": {
          "base_uri": "https://localhost:8080/"
        },
        "id": "Hkte-fwzfDP2",
        "outputId": "38b5888f-47bb-4a2f-c817-53195cbea712"
      },
      "execution_count": 24,
      "outputs": [
        {
          "output_type": "stream",
          "name": "stdout",
          "text": [
            "this is a string and,\n",
            " it is in python programming language\n"
          ]
        }
      ]
    },
    {
      "cell_type": "code",
      "source": [
        "#Concatination- joining two or more than 2 strings\n",
        "str1=\"apple\"\n",
        "str2=\" is a fruit\"\n",
        "final=str1+str2\n",
        "print(final)"
      ],
      "metadata": {
        "colab": {
          "base_uri": "https://localhost:8080/"
        },
        "id": "5kdR-PUkfmhQ",
        "outputId": "795805fd-465f-44e9-9882-af767dd8a4f7"
      },
      "execution_count": 26,
      "outputs": [
        {
          "output_type": "stream",
          "name": "stdout",
          "text": [
            "apple is a fruit\n"
          ]
        }
      ]
    },
    {
      "cell_type": "code",
      "source": [
        "str1=\"python programming\"\n",
        "length=len(str1)\n",
        "print(length)"
      ],
      "metadata": {
        "colab": {
          "base_uri": "https://localhost:8080/"
        },
        "id": "5LV2sYLIgB68",
        "outputId": "c1923e06-898e-4549-ce7b-da7031bf3356"
      },
      "execution_count": 27,
      "outputs": [
        {
          "output_type": "stream",
          "name": "stdout",
          "text": [
            "18\n"
          ]
        }
      ]
    },
    {
      "cell_type": "code",
      "source": [
        "#INDEXING\n",
        "# P Y T H O N _ P R O G  R  A  M  M  I  N  G\n",
        "# 0 1 2 3 4 5 6 7 8 9 10 11 12 13 14 15 16 17\n",
        "str=\"python programming\"\n",
        "ch=str[5]\n",
        "print(ch)\n"
      ],
      "metadata": {
        "colab": {
          "base_uri": "https://localhost:8080/"
        },
        "id": "ce5U_8UogbzJ",
        "outputId": "9a50e7b4-63ca-4b63-846e-b477d191acd2"
      },
      "execution_count": 33,
      "outputs": [
        {
          "output_type": "stream",
          "name": "stdout",
          "text": [
            "n\n"
          ]
        }
      ]
    },
    {
      "cell_type": "code",
      "source": [
        "#SLICING\n",
        "str=\"python programing\"\n",
        "s=str[2:5]\n",
        "print(s)"
      ],
      "metadata": {
        "colab": {
          "base_uri": "https://localhost:8080/"
        },
        "id": "PWK_hgm_hFIz",
        "outputId": "2dd0d0d7-8870-4d36-f8ce-62dd27a8d583"
      },
      "execution_count": 37,
      "outputs": [
        {
          "output_type": "stream",
          "name": "stdout",
          "text": [
            "tho\n"
          ]
        }
      ]
    },
    {
      "cell_type": "code",
      "source": [
        "str=\"python programing\"\n",
        "s=str[2:]\n",
        "print(s)"
      ],
      "metadata": {
        "colab": {
          "base_uri": "https://localhost:8080/"
        },
        "id": "t653st7Tl21C",
        "outputId": "677e25c3-fc8b-4e9e-8d98-5329a0fd2b76"
      },
      "execution_count": 38,
      "outputs": [
        {
          "output_type": "stream",
          "name": "stdout",
          "text": [
            "thon programing\n"
          ]
        }
      ]
    },
    {
      "cell_type": "code",
      "source": [
        "#NEGATIVE INDEXES\n",
        "str=\"python programing\"\n",
        "s=str[-5:-2]\n",
        "print(s)"
      ],
      "metadata": {
        "colab": {
          "base_uri": "https://localhost:8080/"
        },
        "id": "n6EA11uLl8-K",
        "outputId": "b87b8902-695c-4afb-a570-7c4d6929996b"
      },
      "execution_count": 39,
      "outputs": [
        {
          "output_type": "stream",
          "name": "stdout",
          "text": [
            "ami\n"
          ]
        }
      ]
    },
    {
      "cell_type": "code",
      "source": [
        "#FUNCTIONS\n",
        "str=\"I am studying python programing\"\n",
        "print(str.endswith(\"ing\"))\n"
      ],
      "metadata": {
        "colab": {
          "base_uri": "https://localhost:8080/"
        },
        "id": "f4llskPvmHAI",
        "outputId": "3bba1c47-e1ad-4a1f-9f66-45f5baa6f741"
      },
      "execution_count": 47,
      "outputs": [
        {
          "output_type": "stream",
          "name": "stdout",
          "text": [
            "True\n"
          ]
        }
      ]
    },
    {
      "cell_type": "code",
      "source": [
        "str=\"I am studying python programing\"\n",
        "str=str.capitalize()\n",
        "print(str)"
      ],
      "metadata": {
        "colab": {
          "base_uri": "https://localhost:8080/"
        },
        "id": "LJkA1iSsm_BY",
        "outputId": "3ea79a5c-4e3f-4290-d745-3a1d4bbc32e5"
      },
      "execution_count": 51,
      "outputs": [
        {
          "output_type": "stream",
          "name": "stdout",
          "text": [
            "I am studying python programing\n"
          ]
        }
      ]
    },
    {
      "cell_type": "code",
      "source": [
        "str=\"I am studying python programing\"\n",
        "print(str.replace(\"python\", \"C++\"))"
      ],
      "metadata": {
        "colab": {
          "base_uri": "https://localhost:8080/"
        },
        "id": "WJiGamCJnVep",
        "outputId": "3f89c1e5-3bbc-4774-8244-a85e86a1418d"
      },
      "execution_count": 53,
      "outputs": [
        {
          "output_type": "stream",
          "name": "stdout",
          "text": [
            "I am studying C++ programing\n"
          ]
        }
      ]
    },
    {
      "cell_type": "code",
      "source": [
        "str = \"I am studying python programing\"\n",
        "print(str.find(\"python\"))"
      ],
      "metadata": {
        "colab": {
          "base_uri": "https://localhost:8080/"
        },
        "id": "YLiwGIZroED9",
        "outputId": "6cb64ca9-a9bc-429f-d8f2-459dc3712882"
      },
      "execution_count": 57,
      "outputs": [
        {
          "output_type": "stream",
          "name": "stdout",
          "text": [
            "14\n"
          ]
        }
      ]
    },
    {
      "cell_type": "code",
      "source": [
        "str = \"I am studying python programing\"\n",
        "print(str.count(\"o\"))"
      ],
      "metadata": {
        "colab": {
          "base_uri": "https://localhost:8080/"
        },
        "id": "KYf5t_TSoWC0",
        "outputId": "88580903-8ad5-494f-9287-341f54df5243"
      },
      "execution_count": 59,
      "outputs": [
        {
          "output_type": "stream",
          "name": "stdout",
          "text": [
            "2\n"
          ]
        }
      ]
    },
    {
      "cell_type": "code",
      "source": [],
      "metadata": {
        "id": "RGrm2lxRo1k_"
      },
      "execution_count": null,
      "outputs": []
    }
  ]
}