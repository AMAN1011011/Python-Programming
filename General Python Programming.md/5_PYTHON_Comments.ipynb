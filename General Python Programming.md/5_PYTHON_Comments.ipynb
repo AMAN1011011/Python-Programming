{
  "nbformat": 4,
  "nbformat_minor": 0,
  "metadata": {
    "colab": {
      "provenance": []
    },
    "kernelspec": {
      "name": "python3",
      "display_name": "Python 3"
    },
    "language_info": {
      "name": "python"
    }
  },
  "cells": [
    {
      "cell_type": "markdown",
      "source": [
        "## COMMENTING IN PYTHON"
      ],
      "metadata": {
        "id": "sSMdeFqC-Box"
      }
    },
    {
      "cell_type": "markdown",
      "source": [
        "### Comments in Python\n",
        "Comments in any programming language are used to increase the readability of the code. Similarly, in Python, when the program starts getting complicated, one of the best ways to maintain the readability of the code is to use Python comments. It is considered a good practice to include documentations and notes in the python syntax since it makes the code way more readable and understandable to other programmers as well, which comes in handy when multiple programmers are simultaneously working on the same project.\n",
        "The code can only explain how it does something and not why it does that, but Python comments can do that. With Python comments, we can make documentations for various explanations in our code itself.\n",
        "\n"
      ],
      "metadata": {
        "id": "fmT1Ii9r-Hyo"
      }
    },
    {
      "cell_type": "markdown",
      "source": [
        "### How to Comment in Python\n",
        "Comments are nothing but tagged lines of codes which increase the readability of a code and make it self-explanatory. There are different ways of creating comments depending on the type of comment we want to include in our code. Following are different kinds of comments that can be included in our Python program:\n",
        "* Single Line Comments\n",
        "* Docstring Comments\n",
        "* Multiline Comments\n"
      ],
      "metadata": {
        "id": "gd0pQknK-gZA"
      }
    },
    {
      "cell_type": "markdown",
      "source": [
        "###Single Line Python Comment\n",
        "Single line Python comments are marked with # character. These comments end at the end of the physical line, which means that all characters starting after the # character (and lasts till the end of the line) are part of the comment.\n"
      ],
      "metadata": {
        "id": "Oc_yrDa8-wcp"
      }
    },
    {
      "cell_type": "code",
      "source": [
        "# This is a single-line comment\n",
        "# This comment can be used to say what is a particular code is doing, Example:\n",
        "#Addition of 2 numbers in python\n",
        "a=10 #First number\n",
        "b=5  #Second number\n",
        "c=a+b #adding both\n",
        "print(\"Addition of both the number is:\", c)"
      ],
      "metadata": {
        "colab": {
          "base_uri": "https://localhost:8080/"
        },
        "id": "s4kWt9pL-0p3",
        "outputId": "f08c740b-9918-42c0-d1b2-8713bb7d8672"
      },
      "execution_count": 4,
      "outputs": [
        {
          "output_type": "stream",
          "name": "stdout",
          "text": [
            "Addition of both the number is: 15\n"
          ]
        }
      ]
    },
    {
      "cell_type": "markdown",
      "source": [
        "### Docstrings\n",
        "Python has the documentation strings (or docstrings) feature which is usually the first statement included in functions and modules. Rather than being ignored by the Python Interpreter like regular comments, docstrings can actually be accessed at the run time using the dot operator.\n",
        "It gives programmers an easy way of adding quick notes with every Python module, function, class, and method. To use this feature, we use triple quotes in the beginning of the documentation string or comment and the closing triple quotes at the end of the documentation comment. Docstrings can be one-liners as well as multi-liners."
      ],
      "metadata": {
        "id": "w3Kjk1oV_e2g"
      }
    },
    {
      "cell_type": "code",
      "source": [
        "def SayFunction():\n",
        "  '''\n",
        "Strings written using ”’_”’ after a function represents docstring of func\n",
        "Python docstrings are not comments\n",
        "'''\n",
        "print(\"just a docstring\")\n",
        "print(\"Let us see how to print the docstring value\")\n",
        "print(SayFunction.__doc__)"
      ],
      "metadata": {
        "colab": {
          "base_uri": "https://localhost:8080/"
        },
        "id": "B982IG8U_2v_",
        "outputId": "8b3440e3-2314-4024-e92f-b8665b31e10d"
      },
      "execution_count": 8,
      "outputs": [
        {
          "output_type": "stream",
          "name": "stdout",
          "text": [
            "just a docstring\n",
            "Let us see how to print the docstring value\n",
            "\n",
            "Strings written using ”’_”’ after a function represents docstring of func\n",
            "Python docstrings are not comments\n",
            "\n"
          ]
        }
      ]
    },
    {
      "cell_type": "markdown",
      "source": [
        "### Multiline Comment in Python\n",
        "Unlike some programming languages that support multiline comments, such as C, Java, and more, there is no specific feature for multiline comments in Python. But that does not mean that it is totally impossible to make multiline comments in Python. There are two ways we can include comments that can span across multiple lines in our Python code\n",
        "* Python Block Comments: We can use several single line comments for a whole block. This type of comment is usually created to explain the block of code that follows the Block comment. Python Block comment is the only way of writing a real comment that can span across multiple lines. It is supported and preferred by Python’s PEP8 style guide since Block comments are ignored by Python interpreter or parser. However, nothing is stopping programmers from using the second ‘non-real’ way of writing multiline comments in Python which is explained below.\n",
        "* Using Docstrings: Docstrings are largely used as multiline comments in Python by many programmers since it is the closest thing to having a multiline comment feature in Python. While it is not wrong to use docstrings when we need to make multiline comments, it is important to keep in mind that there is a significant difference between docstrings and comments. Comments in Python are totally ignored by the Python Interpreter, while docstrings, when used inside the Python function, can be accessed at the run time.\n"
      ],
      "metadata": {
        "id": "2yI2pF2KAdTp"
      }
    },
    {
      "cell_type": "code",
      "source": [
        "test1= 7 * 2\n",
        "print(test1)\n",
        "\"\"\"\n",
        "line one\n",
        "line two\n",
        "line three\n",
        "\"\"\""
      ],
      "metadata": {
        "colab": {
          "base_uri": "https://localhost:8080/",
          "height": 52
        },
        "id": "j4mDZ0ebApXY",
        "outputId": "fe06583b-9213-44d0-c0fc-0e81692e9b88"
      },
      "execution_count": 13,
      "outputs": [
        {
          "output_type": "stream",
          "name": "stdout",
          "text": [
            "14\n"
          ]
        },
        {
          "output_type": "execute_result",
          "data": {
            "text/plain": [
              "'\\nline one\\nline two\\nline three\\n'"
            ],
            "application/vnd.google.colaboratory.intrinsic+json": {
              "type": "string"
            }
          },
          "metadata": {},
          "execution_count": 13
        }
      ]
    }
  ]
}
