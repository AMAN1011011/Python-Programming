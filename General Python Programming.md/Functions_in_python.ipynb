{
  "nbformat": 4,
  "nbformat_minor": 0,
  "metadata": {
    "colab": {
      "provenance": []
    },
    "kernelspec": {
      "name": "python3",
      "display_name": "Python 3"
    },
    "language_info": {
      "name": "python"
    }
  },
  "cells": [
    {
      "cell_type": "code",
      "source": [
        "#functions in python\n",
        "#block of statements that perform a specific task"
      ],
      "metadata": {
        "id": "UJ_Lswnq88Z8"
      },
      "execution_count": null,
      "outputs": []
    },
    {
      "cell_type": "code",
      "source": [
        "#function defination\n",
        "def calc_sum(a,b):\n",
        "  sum=a+b         #function body(parameter)\n",
        "  return sum      #function call"
      ],
      "metadata": {
        "id": "vOff-GDv9NYx"
      },
      "execution_count": null,
      "outputs": []
    },
    {
      "cell_type": "code",
      "source": [
        "calc_sum(12,23)"
      ],
      "metadata": {
        "colab": {
          "base_uri": "https://localhost:8080/"
        },
        "id": "T9RwgEbBDhDb",
        "outputId": "e41e4dca-8827-4e90-9af8-6e1b5fd83b30"
      },
      "execution_count": null,
      "outputs": [
        {
          "output_type": "execute_result",
          "data": {
            "text/plain": [
              "35"
            ]
          },
          "metadata": {},
          "execution_count": 3
        }
      ]
    },
    {
      "cell_type": "code",
      "source": [
        "calc_sum(3,4)"
      ],
      "metadata": {
        "colab": {
          "base_uri": "https://localhost:8080/"
        },
        "id": "KL2fn6HdDl9r",
        "outputId": "248967f8-1311-4398-ad37-032a06e6057b"
      },
      "execution_count": null,
      "outputs": [
        {
          "output_type": "execute_result",
          "data": {
            "text/plain": [
              "7"
            ]
          },
          "metadata": {},
          "execution_count": 4
        }
      ]
    },
    {
      "cell_type": "code",
      "source": [
        "def calc_avg(a,b,c):\n",
        "  sum=a+b+c\n",
        "  avg=sum/3\n",
        "  return avg"
      ],
      "metadata": {
        "id": "yjimuAL5DvGB"
      },
      "execution_count": null,
      "outputs": []
    },
    {
      "cell_type": "code",
      "source": [
        "calc_avg(12,23,34)"
      ],
      "metadata": {
        "colab": {
          "base_uri": "https://localhost:8080/"
        },
        "id": "i-btoVBiEZlZ",
        "outputId": "313e375e-6351-41ff-b7d6-56ddbbab2344"
      },
      "execution_count": null,
      "outputs": [
        {
          "output_type": "execute_result",
          "data": {
            "text/plain": [
              "23.0"
            ]
          },
          "metadata": {},
          "execution_count": 6
        }
      ]
    },
    {
      "cell_type": "code",
      "source": [
        "def print_hello():\n",
        "  print(\"hello\")"
      ],
      "metadata": {
        "id": "xfAfWo3vw7fM"
      },
      "execution_count": null,
      "outputs": []
    },
    {
      "cell_type": "code",
      "source": [
        "print_hello()\n",
        "print_hello()\n",
        "print_hello()"
      ],
      "metadata": {
        "colab": {
          "base_uri": "https://localhost:8080/"
        },
        "id": "TI6DipPOx01n",
        "outputId": "065e6b00-9787-419d-b234-8561876487cf"
      },
      "execution_count": null,
      "outputs": [
        {
          "output_type": "stream",
          "name": "stdout",
          "text": [
            "hello\n",
            "hello\n",
            "hello\n"
          ]
        }
      ]
    },
    {
      "cell_type": "code",
      "source": [
        "def cal_prod(a=1, b=2):\n",
        "  print(a*b)\n",
        "  return a*b\n",
        "cal_prod(1)"
      ],
      "metadata": {
        "colab": {
          "base_uri": "https://localhost:8080/"
        },
        "id": "Picvez-jx6k8",
        "outputId": "950ef68b-5d89-4efc-9202-cc7ce659b51f"
      },
      "execution_count": null,
      "outputs": [
        {
          "output_type": "stream",
          "name": "stdout",
          "text": [
            "2\n"
          ]
        },
        {
          "output_type": "execute_result",
          "data": {
            "text/plain": [
              "2"
            ]
          },
          "metadata": {},
          "execution_count": 9
        }
      ]
    },
    {
      "cell_type": "code",
      "source": [
        "citis = [\"delhi\", \"mumbai\", \"indore\", \"banglore\", \"bhopal\"]\n",
        "heros = [\"ironman\", \"spiderman\", \"hulk\", \"blackpanther\"]\n",
        "\n",
        "def print_len(list):\n",
        "  print(len(list))\n",
        "\n",
        "print_len(citis)\n",
        "print_len(heros)\n"
      ],
      "metadata": {
        "colab": {
          "base_uri": "https://localhost:8080/"
        },
        "id": "FhQoOdNSy7n0",
        "outputId": "caa17b03-f9da-451c-dcd9-b78e47914897"
      },
      "execution_count": null,
      "outputs": [
        {
          "output_type": "stream",
          "name": "stdout",
          "text": [
            "5\n",
            "4\n"
          ]
        }
      ]
    },
    {
      "cell_type": "code",
      "source": [
        "citis = [\"delhi\", \"mumbai\", \"indore\", \"banglore\", \"bhopal\"]\n",
        "heros = [\"ironman\", \"spiderman\", \"hulk\", \"blackpanther\"]\n",
        "\n",
        "print(heros[0], end=\" \")\n",
        "print(heros[1], end=\" \")\n",
        "\n",
        "def print_len(list):\n",
        "  print(len(list))\n",
        "\n",
        "print_len(citis)\n",
        "print_len(heros)\n"
      ],
      "metadata": {
        "colab": {
          "base_uri": "https://localhost:8080/"
        },
        "id": "inzNMzINzszj",
        "outputId": "d236269b-068d-42b7-e539-3c74aef715d9"
      },
      "execution_count": null,
      "outputs": [
        {
          "output_type": "stream",
          "name": "stdout",
          "text": [
            "ironman spiderman 5\n",
            "4\n"
          ]
        }
      ]
    },
    {
      "cell_type": "code",
      "source": [
        "citis = [\"delhi\", \"mumbai\", \"indore\", \"banglore\", \"bhopal\"]\n",
        "heros = [\"ironman\", \"spiderman\", \"hulk\", \"blackpanther\"]\n",
        "\n",
        "def print_len(list):\n",
        "  print(len(list))\n",
        "\n",
        "def print_list(list):\n",
        "  for item in list:\n",
        "    print(item, end=\" \")\n",
        "\n",
        "print_list(heros)"
      ],
      "metadata": {
        "colab": {
          "base_uri": "https://localhost:8080/"
        },
        "id": "eOzaXsksz9WJ",
        "outputId": "3f1e0291-17ae-4fa4-c155-8464ad492f36"
      },
      "execution_count": null,
      "outputs": [
        {
          "output_type": "stream",
          "name": "stdout",
          "text": [
            "ironman spiderman hulk blackpanther "
          ]
        }
      ]
    },
    {
      "cell_type": "code",
      "source": [
        "n=5\n",
        "def cal_fact(n):\n",
        "  fact = 1\n",
        "  for i in range(1, n+1):\n",
        "    fact *= i\n",
        "  print(fact)\n",
        "cal_fact(5)"
      ],
      "metadata": {
        "colab": {
          "base_uri": "https://localhost:8080/"
        },
        "id": "-07jXy1d0w-T",
        "outputId": "be09c83b-fb23-4a0b-de21-83e997f46527"
      },
      "execution_count": null,
      "outputs": [
        {
          "output_type": "stream",
          "name": "stdout",
          "text": [
            "120\n"
          ]
        }
      ]
    },
    {
      "cell_type": "code",
      "source": [
        "#USD to INR\n",
        "#1USD = 83INR\n",
        "def converter(usd_val):\n",
        "  inr_val = usd_val * 83\n",
        "  print(usd_val, \"USD = \", inr_val, \"INR\")\n",
        "converter(int(input(\"Enter the USD value:\")))"
      ],
      "metadata": {
        "colab": {
          "base_uri": "https://localhost:8080/"
        },
        "id": "jFdgzLoJ2FeE",
        "outputId": "12418660-063c-435c-de4b-8a8d39535a94"
      },
      "execution_count": null,
      "outputs": [
        {
          "output_type": "stream",
          "name": "stdout",
          "text": [
            "Enter the USD value:65\n",
            "65 USD =  5395 INR\n"
          ]
        }
      ]
    },
    {
      "cell_type": "code",
      "source": [
        "def eo(num):\n",
        "  if num % 2 == 0:\n",
        "    print(\"number is even\")\n",
        "  else:\n",
        "    print(\"number is odd\")\n",
        "eo(int(input(\"Enter the number:\")))"
      ],
      "metadata": {
        "id": "H_B1p1O72p3q",
        "colab": {
          "base_uri": "https://localhost:8080/"
        },
        "outputId": "5279cfa1-0207-4925-cece-c74bcb70c580"
      },
      "execution_count": null,
      "outputs": [
        {
          "output_type": "stream",
          "name": "stdout",
          "text": [
            "Enter the number:23\n",
            "number is odd\n"
          ]
        }
      ]
    },
    {
      "cell_type": "code",
      "source": [
        "#RECURSION\n",
        "def show(n):\n",
        "  if(n == 0):\n",
        "    return\n",
        "  print(n)\n",
        "  show(n-1)\n",
        "show(5)"
      ],
      "metadata": {
        "colab": {
          "base_uri": "https://localhost:8080/"
        },
        "id": "EgMnO1hGpA3Z",
        "outputId": "436ebdfa-edfb-4c7f-b9e3-89871419c6b7"
      },
      "execution_count": null,
      "outputs": [
        {
          "output_type": "stream",
          "name": "stdout",
          "text": [
            "5\n",
            "4\n",
            "3\n",
            "2\n",
            "1\n"
          ]
        }
      ]
    },
    {
      "cell_type": "code",
      "source": [
        "#factorial of a number\n",
        "def fact(n):\n",
        "  if(n==0 or n==1):\n",
        "    return 1\n",
        "  return n * fact(n-1)\n",
        "print(fact(6))"
      ],
      "metadata": {
        "id": "O30rkxVJq5AE",
        "colab": {
          "base_uri": "https://localhost:8080/"
        },
        "outputId": "e06fcfcd-0b5f-451b-bbd2-7356dd9a7965"
      },
      "execution_count": 7,
      "outputs": [
        {
          "output_type": "stream",
          "name": "stdout",
          "text": [
            "720\n"
          ]
        }
      ]
    },
    {
      "cell_type": "code",
      "source": [
        "#calculate sum of first n natural numbers\n",
        "def calc_sum(n):\n",
        "  if(n==0):\n",
        "    return 0\n",
        "  return calc_sum(n-1) + n\n",
        "\n",
        "sum = calc_sum(5)\n",
        "print(sum)"
      ],
      "metadata": {
        "colab": {
          "base_uri": "https://localhost:8080/"
        },
        "id": "_M1UMwLdQjfA",
        "outputId": "0f2c72b3-9f0c-4187-d555-0f2e86f7f1f7"
      },
      "execution_count": 8,
      "outputs": [
        {
          "output_type": "stream",
          "name": "stdout",
          "text": [
            "15\n"
          ]
        }
      ]
    },
    {
      "cell_type": "code",
      "source": [
        "#recursive function to print all emlements in a list\n",
        "def print_list(list, idx=0):\n",
        "  if (idx == len(list)):\n",
        "    return\n",
        "  print(list[idx])\n",
        "  print_list(list,idx+1)\n",
        "\n",
        "fruits = [\"mango\", \"litchi\", \"apple\", \"banana\"]\n",
        "print_list(fruits)"
      ],
      "metadata": {
        "colab": {
          "base_uri": "https://localhost:8080/"
        },
        "id": "2dQN9qVASdIh",
        "outputId": "d3fdad6e-10b3-4a8a-80f2-7d8604c33fc1"
      },
      "execution_count": 9,
      "outputs": [
        {
          "output_type": "stream",
          "name": "stdout",
          "text": [
            "mango\n",
            "litchi\n",
            "apple\n",
            "banana\n"
          ]
        }
      ]
    },
    {
      "cell_type": "code",
      "source": [],
      "metadata": {
        "id": "r9S4D_YyTin2"
      },
      "execution_count": null,
      "outputs": []
    }
  ]
}