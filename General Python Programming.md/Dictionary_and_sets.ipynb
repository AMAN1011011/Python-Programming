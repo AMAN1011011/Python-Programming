{
  "nbformat": 4,
  "nbformat_minor": 0,
  "metadata": {
    "colab": {
      "provenance": []
    },
    "kernelspec": {
      "name": "python3",
      "display_name": "Python 3"
    },
    "language_info": {
      "name": "python"
    }
  },
  "cells": [
    {
      "cell_type": "code",
      "source": [
        "#Dictionary works in pair"
      ],
      "metadata": {
        "id": "4fHVjCcU5JI2"
      },
      "execution_count": null,
      "outputs": []
    },
    {
      "cell_type": "code",
      "source": [
        "info={\n",
        "    \"Key\": \"value\",\n",
        "    \"name\": \"aman\",\n",
        "    \"learning\": \"python\",\n",
        "    \"age\": 22,\n",
        "    \"is_student\": True,\n",
        "    \"marks\" : \"82.2\"\n",
        "}\n",
        "print(type(info))\n",
        "\n"
      ],
      "metadata": {
        "colab": {
          "base_uri": "https://localhost:8080/"
        },
        "id": "uzZ4qfcr6cn1",
        "outputId": "01e3d225-e5d7-4301-ba7e-b7c2162dc936"
      },
      "execution_count": null,
      "outputs": [
        {
          "output_type": "stream",
          "name": "stdout",
          "text": [
            "<class 'dict'>\n"
          ]
        }
      ]
    },
    {
      "cell_type": "code",
      "source": [
        "print(info[\"name\"])\n",
        "print(info[\"learning\"])\n",
        "print(info[\"age\"])\n",
        "print(info[\"is_student\"])\n",
        "print(info[\"marks\"])"
      ],
      "metadata": {
        "colab": {
          "base_uri": "https://localhost:8080/"
        },
        "id": "mOIQNdcc8pJd",
        "outputId": "9f2e6a7e-beb9-45e8-95c3-875c3d7da8e0"
      },
      "execution_count": null,
      "outputs": [
        {
          "output_type": "stream",
          "name": "stdout",
          "text": [
            "aman\n",
            "python\n",
            "22\n",
            "True\n",
            "82.2\n"
          ]
        }
      ]
    },
    {
      "cell_type": "code",
      "source": [
        "#NESTED DICTIONARY\n",
        "student = {\n",
        "    \"name\": \"aman\",\n",
        "    \"subjects\": {\n",
        "        \"physics\": 78,\n",
        "        \"chemistry\": 87,\n",
        "        \"biology\": 97\n",
        "    }\n",
        "}\n",
        "print(student)\n",
        "print(student[\"subjects\"])\n",
        "print(student[\"subjects\"][\"physics\"])"
      ],
      "metadata": {
        "colab": {
          "base_uri": "https://localhost:8080/"
        },
        "id": "mt9HAi-U9udM",
        "outputId": "38c82116-d4a0-45f5-d60a-d633801674d6"
      },
      "execution_count": null,
      "outputs": [
        {
          "output_type": "stream",
          "name": "stdout",
          "text": [
            "{'name': 'aman', 'subjects': {'physics': 78, 'chemistry': 87, 'biology': 97}}\n",
            "{'physics': 78, 'chemistry': 87, 'biology': 97}\n",
            "78\n"
          ]
        }
      ]
    },
    {
      "cell_type": "code",
      "source": [
        "#NESTED DICTIONARY\n",
        "student = {\n",
        "    \"name\": \"aman\",\n",
        "    \"subjects\": {\n",
        "        \"physics\": 78,\n",
        "        \"chemistry\": 87,\n",
        "        \"biology\": 97\n",
        "    }\n",
        "}\n",
        "print(len(student.keys()))\n",
        "print(student.keys())\n",
        "print(list(student.values()))\n",
        "print(list(student.items()))\n",
        "print(student.get(\"name\"))\n",
        "student.update({\"city\": \"Indore\" , \"age\" : \"22\"})\n",
        "print(student)"
      ],
      "metadata": {
        "colab": {
          "base_uri": "https://localhost:8080/"
        },
        "id": "lhUVBubdC9A5",
        "outputId": "79432d72-5211-4bad-95aa-1553a7ea8209"
      },
      "execution_count": 24,
      "outputs": [
        {
          "output_type": "stream",
          "name": "stdout",
          "text": [
            "2\n",
            "dict_keys(['name', 'subjects'])\n",
            "['aman', {'physics': 78, 'chemistry': 87, 'biology': 97}]\n",
            "[('name', 'aman'), ('subjects', {'physics': 78, 'chemistry': 87, 'biology': 97})]\n",
            "aman\n",
            "{'name': 'aman', 'subjects': {'physics': 78, 'chemistry': 87, 'biology': 97}, 'city': 'Indore', 'age': '22'}\n"
          ]
        }
      ]
    },
    {
      "cell_type": "code",
      "source": [
        "#STES\n",
        "#Collection of Unordered Items\n",
        "#Each element in set must be unique and immutable"
      ],
      "metadata": {
        "id": "FokLbXzdEHtQ"
      },
      "execution_count": 26,
      "outputs": []
    },
    {
      "cell_type": "code",
      "source": [
        " collection={1,2,3,4,5}\n",
        " print(type(collection))\n",
        " print(collection)"
      ],
      "metadata": {
        "colab": {
          "base_uri": "https://localhost:8080/"
        },
        "id": "yj12e4fSeSMQ",
        "outputId": "4058d35e-59c7-4163-e80b-ce54d3342f6c"
      },
      "execution_count": 28,
      "outputs": [
        {
          "output_type": "stream",
          "name": "stdout",
          "text": [
            "<class 'set'>\n",
            "{1, 2, 3, 4, 5}\n"
          ]
        }
      ]
    },
    {
      "cell_type": "code",
      "source": [
        " collection={1,2,3,4,5,\"hello\",\"world\",\"world\"}\n",
        " print(type(collection))\n",
        " print(collection) #Duplicates not allowed"
      ],
      "metadata": {
        "colab": {
          "base_uri": "https://localhost:8080/"
        },
        "id": "Pw1H4KH4iAuY",
        "outputId": "702529b3-7a7b-49e6-d846-4699380b9381"
      },
      "execution_count": 30,
      "outputs": [
        {
          "output_type": "stream",
          "name": "stdout",
          "text": [
            "<class 'set'>\n",
            "{1, 2, 3, 4, 5, 'hello', 'world'}\n"
          ]
        }
      ]
    },
    {
      "cell_type": "code",
      "source": [
        " collection={1,2,3,4,5,\"hello\",\"world\",\"world\"}\n",
        " print(type(collection))\n",
        " print(len(collection))"
      ],
      "metadata": {
        "colab": {
          "base_uri": "https://localhost:8080/"
        },
        "id": "0ew6NnVYiJGO",
        "outputId": "079a689b-9aab-4c2c-b419-1f4b05d7ddd3"
      },
      "execution_count": 31,
      "outputs": [
        {
          "output_type": "stream",
          "name": "stdout",
          "text": [
            "<class 'set'>\n",
            "7\n"
          ]
        }
      ]
    },
    {
      "cell_type": "code",
      "source": [
        " collection={} #empty dict, not a set\n",
        " print(type(collection))"
      ],
      "metadata": {
        "colab": {
          "base_uri": "https://localhost:8080/"
        },
        "id": "c5KTJs3-iQCu",
        "outputId": "0f9952e5-ed04-4bbe-9404-d73b16ea2157"
      },
      "execution_count": 32,
      "outputs": [
        {
          "output_type": "stream",
          "name": "stdout",
          "text": [
            "<class 'dict'>\n"
          ]
        }
      ]
    },
    {
      "cell_type": "code",
      "source": [
        " collection=set() #set\n",
        " print(type(collection))"
      ],
      "metadata": {
        "colab": {
          "base_uri": "https://localhost:8080/"
        },
        "id": "yqHx_VKBiZNH",
        "outputId": "24fd856c-c74a-4903-da49-8e74919ebad5"
      },
      "execution_count": 33,
      "outputs": [
        {
          "output_type": "stream",
          "name": "stdout",
          "text": [
            "<class 'set'>\n"
          ]
        }
      ]
    },
    {
      "cell_type": "code",
      "source": [
        "collection = set()\n",
        "collection.add(1)\n",
        "collection.add(2)\n",
        "collection.add(3)\n",
        "collection.add(4)\n",
        "collection.add(4) #dosent print duplicate elements\n",
        "print(collection)"
      ],
      "metadata": {
        "colab": {
          "base_uri": "https://localhost:8080/"
        },
        "id": "ZsS80oYGihG3",
        "outputId": "7bf9d7ce-dc68-4504-ce32-af3a854f8db7"
      },
      "execution_count": 35,
      "outputs": [
        {
          "output_type": "stream",
          "name": "stdout",
          "text": [
            "{1, 2, 3, 4}\n"
          ]
        }
      ]
    },
    {
      "cell_type": "code",
      "source": [
        "collection = set()\n",
        "collection.add(1)\n",
        "collection.add(2)\n",
        "collection.add(3)\n",
        "collection.add(4)\n",
        "collection.add(4) #dosent print duplicate elements\n",
        "collection.remove(4) #removes all duplicate and original elements\n",
        "print(collection)"
      ],
      "metadata": {
        "colab": {
          "base_uri": "https://localhost:8080/"
        },
        "id": "IlaEDBMUjATQ",
        "outputId": "e8bef6f4-fbea-4afb-fe4e-5c990ce1fff5"
      },
      "execution_count": 38,
      "outputs": [
        {
          "output_type": "stream",
          "name": "stdout",
          "text": [
            "{1, 2, 3}\n"
          ]
        }
      ]
    },
    {
      "cell_type": "code",
      "source": [
        "collection = set()\n",
        "collection.add(1)\n",
        "collection.add(2)\n",
        "collection.add(3)\n",
        "collection.add(4)\n",
        "collection.add(4)\n",
        "collection.remove(4)\n",
        "collection.clear\n",
        "print(len(collection))"
      ],
      "metadata": {
        "colab": {
          "base_uri": "https://localhost:8080/"
        },
        "id": "20NWtWSnjJvQ",
        "outputId": "0a6ff119-2846-4ad7-a216-66e9396b6226"
      },
      "execution_count": 41,
      "outputs": [
        {
          "output_type": "stream",
          "name": "stdout",
          "text": [
            "3\n"
          ]
        }
      ]
    },
    {
      "cell_type": "code",
      "source": [
        "collection={\"python\",\"java\",\"cpp\",\"html\",\"js\",\"css\"}\n",
        "print(collection.pop()) #randomly pop out i.e. picks out any element from the collection"
      ],
      "metadata": {
        "colab": {
          "base_uri": "https://localhost:8080/"
        },
        "id": "Y-z0bqium8uB",
        "outputId": "1e727c6c-71d7-468e-e5f5-f830dfe719cc"
      },
      "execution_count": 46,
      "outputs": [
        {
          "output_type": "stream",
          "name": "stdout",
          "text": [
            "css\n"
          ]
        }
      ]
    },
    {
      "cell_type": "code",
      "source": [
        "#UNION-combines both set values and returns new\n",
        "set1={1,2,3}\n",
        "set2={2,3,4}\n",
        "print(set1.union(set2))\n",
        "print(set1)\n",
        "print(set2)"
      ],
      "metadata": {
        "colab": {
          "base_uri": "https://localhost:8080/"
        },
        "id": "gtgg0ca3nXY6",
        "outputId": "9b79fc3b-1928-498c-b439-ccfc2b04bd25"
      },
      "execution_count": 49,
      "outputs": [
        {
          "output_type": "stream",
          "name": "stdout",
          "text": [
            "{1, 2, 3, 4}\n",
            "{1, 2, 3}\n",
            "{2, 3, 4}\n"
          ]
        }
      ]
    },
    {
      "cell_type": "code",
      "source": [
        "#INTERSECTION-combines both set values and returns new\n",
        "set1={1,2,3}\n",
        "set2={2,3,4}\n",
        "print(set1.intersection(set2))\n"
      ],
      "metadata": {
        "colab": {
          "base_uri": "https://localhost:8080/"
        },
        "id": "mT6zjTa8oJCy",
        "outputId": "32c72714-f188-487c-e952-f19cc90bf577"
      },
      "execution_count": 51,
      "outputs": [
        {
          "output_type": "stream",
          "name": "stdout",
          "text": [
            "{2, 3}\n"
          ]
        }
      ]
    },
    {
      "cell_type": "code",
      "source": [
        "#store the following word meanings in a dictionary\n",
        "#table : \"a piece of furniture\" , \"list of facts and figures\"\n",
        "#cat : \"a small animal\"\n",
        "dictionary= {\n",
        "    \"table\": [\"a piece of furniture\", \"list of facts and figures\"],\n",
        "    \"cat\": \"a small animal\"\n",
        "}\n",
        "print(dictionary)"
      ],
      "metadata": {
        "colab": {
          "base_uri": "https://localhost:8080/"
        },
        "id": "TDT2LP-3ohz_",
        "outputId": "c03304fc-63ed-4aee-cfb2-19f105e27bce"
      },
      "execution_count": 54,
      "outputs": [
        {
          "output_type": "stream",
          "name": "stdout",
          "text": [
            "{'table': ['a piece of furniture', 'list of facts and figures'], 'cat': 'a small animal'}\n"
          ]
        }
      ]
    },
    {
      "cell_type": "code",
      "source": [
        "'''you are given a list of subjects for students. Assume one class is required\n",
        "for 1 subject. How many classrooms are needed by all students\n",
        "\"python\", \"java\", \"C++\", \"python\", \"javascript\", \"java\", \"python\", \"C++\", \"C\" '''\n",
        "\n",
        "#CODE:\n",
        "subjects = {\n",
        "    \"python\", \"java\", \"C++\", \"python\", \"javascript\", \"java\", \"python\", \"C++\", \"C\"\n",
        "}\n",
        "print(len(subjects))"
      ],
      "metadata": {
        "colab": {
          "base_uri": "https://localhost:8080/"
        },
        "id": "yNujX3GZpJW4",
        "outputId": "b204cb24-983a-4067-8aa1-a03b4993e6d0"
      },
      "execution_count": 61,
      "outputs": [
        {
          "output_type": "stream",
          "name": "stdout",
          "text": [
            "5\n"
          ]
        }
      ]
    }
  ]
}