{
  "nbformat": 4,
  "nbformat_minor": 0,
  "metadata": {
    "colab": {
      "provenance": []
    },
    "kernelspec": {
      "name": "python3",
      "display_name": "Python 3"
    },
    "language_info": {
      "name": "python"
    }
  },
  "cells": [
    {
      "cell_type": "markdown",
      "source": [
        "##-PYTHON\n",
        "\n",
        "\n",
        "*   Syntax\n",
        "*   Variables\n",
        "\n",
        "##-DATA TYPES\n",
        "\n",
        "\n",
        "*   String\n",
        "*   Numbers\n",
        "*   List\n",
        "*   Tuples\n",
        "*   Set\n",
        "*   Bool\n",
        "\n",
        "##-CONTROL FLOW\n",
        "\n",
        "*  Condition\n",
        "*  Loops\n",
        "\n",
        "##-FUNCTIONS\n",
        "*  Generators\n",
        "*  Iterators\n",
        "\n",
        "##-CLASSES\n",
        "\n",
        "##-OOP\n",
        "*  Inheritence\n",
        "*  Abstraction\n",
        "\n",
        "\n",
        "##-DECORATOR\n",
        "\n",
        "##-EXCEPTIONS\n",
        "\n",
        "##-TESTING\n",
        "\n",
        "##-MODULES\n",
        "*  Data Analysis\n",
        "*  Machine learning\n",
        "*  Artificial Intellegence\n",
        "*  Web Development\n",
        "*  Back-End Development\n",
        "#####And much more\n",
        "\n",
        "\n"
      ],
      "metadata": {
        "id": "WmZFfw-sjB42"
      }
    },
    {
      "cell_type": "code",
      "source": [],
      "metadata": {
        "id": "5WMV_osSxV8H"
      },
      "execution_count": null,
      "outputs": []
    }
  ]
}