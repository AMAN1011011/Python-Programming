{
  "nbformat": 4,
  "nbformat_minor": 0,
  "metadata": {
    "colab": {
      "provenance": []
    },
    "kernelspec": {
      "name": "python3",
      "display_name": "Python 3"
    },
    "language_info": {
      "name": "python"
    }
  },
  "cells": [
    {
      "cell_type": "markdown",
      "source": [
        "### Python Programming\n"
      ],
      "metadata": {
        "id": "BTJHiFd2OIXV"
      }
    },
    {
      "cell_type": "markdown",
      "source": [
        "PROGRAMMING: Computer programming is the process of performing a particular computation, usually by designing and building an executable computer program. Programming is a way of communication between humans and machines.\n",
        "And the language used for programming in known as programming language\n",
        "\n",
        "\n"
      ],
      "metadata": {
        "id": "bfAq19HSOPnD"
      }
    },
    {
      "cell_type": "markdown",
      "source": [
        "\n",
        "PYTHON: Python is a high-level, general-purpose programming language. Its design philosophy emphasizes code readability with the use of significant indentationPython was conceived in the late 1980s by Guido van Rossum.\n",
        "\n"
      ],
      "metadata": {
        "id": "fFtN6chJzv1x"
      }
    },
    {
      "cell_type": "markdown",
      "source": [
        "\n",
        "What can you do with python?\n",
        "* Data analysis and machine learning\n",
        "* Web development\n",
        "* Automation or scripting\n",
        "* Software testing and prototyping\n",
        "* Everyday tasks"
      ],
      "metadata": {
        "id": "7tlxSLHgzy0x"
      }
    },
    {
      "cell_type": "markdown",
      "source": [
        "## PYTHON INSTALLATION\n"
      ],
      "metadata": {
        "id": "rnYLSSzaz1kK"
      }
    },
    {
      "cell_type": "markdown",
      "source": [
        "Python can be installed from the official website of python organization that is [Python.org](https://www.python.org/) or you can also use [Download Python](https://www.python.org/downloads/) to directly go to the download page, select the latest version and download it."
      ],
      "metadata": {
        "id": "n3zVxBN1z8wK"
      }
    }
  ]
}